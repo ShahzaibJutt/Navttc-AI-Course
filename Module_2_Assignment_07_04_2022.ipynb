{
 "cells": [
  {
   "cell_type": "code",
   "execution_count": 2,
   "id": "dd9ad004",
   "metadata": {},
   "outputs": [
    {
     "name": "stdout",
     "output_type": "stream",
     "text": [
      "1      1\n",
      "2     11\n",
      "3     21\n",
      "4     31\n",
      "5     41\n",
      "6     51\n",
      "7     61\n",
      "8     71\n",
      "9     81\n",
      "10    91\n",
      "dtype: int32\n"
     ]
    }
   ],
   "source": [
    "#task 1\n",
    "import numpy as np\n",
    "import pandas as pd\n",
    "mySeries = pd.Series(np.arange(1,100,10),index=[x for x in range(1,11)])\n",
    "print(mySeries)"
   ]
  },
  {
   "cell_type": "code",
   "execution_count": 23,
   "id": "8b79b6de",
   "metadata": {},
   "outputs": [
    {
     "name": "stdout",
     "output_type": "stream",
     "text": [
      "[1, 2, 3, 4, 5, 6, 7, 8, 9, 10]\n",
      "[ 1 11 21 31 41 51 61 71 81 91]\n"
     ]
    }
   ],
   "source": [
    "#task 2\n",
    "values = mySeries.values\n",
    "indexes = mySeries.index.tolist()\n",
    "print(indexes)\n",
    "print(values)\n"
   ]
  },
  {
   "cell_type": "code",
   "execution_count": 25,
   "id": "e60ab79d",
   "metadata": {},
   "outputs": [
    {
     "name": "stdout",
     "output_type": "stream",
     "text": [
      "0    1\n",
      "1    2\n",
      "2    3\n",
      "3    4\n",
      "4    5\n",
      "5    6\n",
      "6    7\n",
      "7    8\n",
      "8    9\n",
      "dtype: int32\n"
     ]
    }
   ],
   "source": [
    "#task 3\n",
    "arr = np.arange(1,10)\n",
    "mySeries = pd.Series(arr)\n",
    "print(mySeries)"
   ]
  },
  {
   "cell_type": "code",
   "execution_count": 42,
   "id": "602d2b93",
   "metadata": {},
   "outputs": [
    {
     "name": "stdout",
     "output_type": "stream",
     "text": [
      "int32\n"
     ]
    },
    {
     "data": {
      "text/plain": [
       "1      1.0\n",
       "2     11.0\n",
       "3     21.0\n",
       "4     31.0\n",
       "5     41.0\n",
       "6     51.0\n",
       "7     61.0\n",
       "8     71.0\n",
       "9     81.0\n",
       "10    91.0\n",
       "dtype: float64"
      ]
     },
     "execution_count": 42,
     "metadata": {},
     "output_type": "execute_result"
    }
   ],
   "source": [
    "#task 4\n",
    "print(mySeries.dtype)\n",
    "mySeries.astype(float)\n"
   ]
  },
  {
   "cell_type": "code",
   "execution_count": 36,
   "id": "4d900c6c",
   "metadata": {},
   "outputs": [
    {
     "name": "stdout",
     "output_type": "stream",
     "text": [
      "0    26\n",
      "1    22\n",
      "2    24\n",
      "3    21\n",
      "4    25\n",
      "5    28\n",
      "6    26\n",
      "7    28\n",
      "8    28\n",
      "9    25\n",
      "Name: Apples, dtype: int32\n",
      "<class 'pandas.core.series.Series'>\n"
     ]
    }
   ],
   "source": [
    "#task 5\n",
    "apples = np.random.randint(20,30,10)\n",
    "oranges = np.random.randint(50,60,10)\n",
    "dict1 = {\"Apples\": apples, \"Oranges\" : oranges}\n",
    "df = pd.DataFrame(dict1)\n",
    "s = df['Apples']\n",
    "print(s)\n",
    "print(type(s))"
   ]
  },
  {
   "cell_type": "code",
   "execution_count": 35,
   "id": "d2c6f353",
   "metadata": {},
   "outputs": [
    {
     "name": "stdout",
     "output_type": "stream",
     "text": [
      "<class 'numpy.ndarray'>\n"
     ]
    },
    {
     "data": {
      "text/plain": [
       "numpy.ndarray"
      ]
     },
     "execution_count": 35,
     "metadata": {},
     "output_type": "execute_result"
    }
   ],
   "source": [
    "#task 6\n",
    "s = np.array(s)\n",
    "type(s)"
   ]
  },
  {
   "cell_type": "code",
   "execution_count": 41,
   "id": "8a5db263",
   "metadata": {},
   "outputs": [
    {
     "data": {
      "text/plain": [
       "0         slim\n",
       "0        waist\n",
       "0          man\n",
       "1         slim\n",
       "1    waistline\n",
       "2        santa\n",
       "dtype: object"
      ]
     },
     "execution_count": 41,
     "metadata": {},
     "output_type": "execute_result"
    }
   ],
   "source": [
    "#task 7\n",
    "s = pd.Series([\n",
    "    ['slim', 'waist', 'man'],\n",
    "    ['slim', 'waistline'],\n",
    "    ['santa']])\n",
    "s= s.explode()\n",
    "s"
   ]
  },
  {
   "cell_type": "code",
   "execution_count": 45,
   "id": "503cf4a2",
   "metadata": {},
   "outputs": [
    {
     "data": {
      "text/plain": [
       "0    26\n",
       "1    22\n",
       "2    24\n",
       "3    21\n",
       "4    25\n",
       "5    28\n",
       "6    26\n",
       "7    28\n",
       "8    28\n",
       "9    25\n",
       "Name: Apples, dtype: int32"
      ]
     },
     "execution_count": 45,
     "metadata": {},
     "output_type": "execute_result"
    }
   ],
   "source": [
    "#task 8\n",
    "series = df[\"Apples\"]\n",
    "series"
   ]
  },
  {
   "cell_type": "code",
   "execution_count": 49,
   "id": "c4784ef9",
   "metadata": {},
   "outputs": [
    {
     "name": "stdout",
     "output_type": "stream",
     "text": [
      "25.3\n",
      "2.4517567397911058\n"
     ]
    }
   ],
   "source": [
    "#task 9\n",
    "print(series.mean())\n",
    "print(series.std())"
   ]
  },
  {
   "cell_type": "code",
   "execution_count": 5,
   "id": "35df904e",
   "metadata": {},
   "outputs": [
    {
     "name": "stdout",
     "output_type": "stream",
     "text": [
      "shahzaib\n",
      "ali\n",
      "uzair\n",
      "usman\n"
     ]
    }
   ],
   "source": [
    "#task 10\n",
    "import pandas as pd\n",
    "series = pd.Series([\"shahzaib\",\"ali\",\"uzair\",\"usman\",\"Gl\"])\n",
    "\n",
    "for i in series:\n",
    "    count = 0\n",
    "    for j in i:\n",
    "        if j in list(\"aeiou\"):\n",
    "            count += 1\n",
    "    if count >= 2:\n",
    "        print(i)"
   ]
  }
 ],
 "metadata": {
  "kernelspec": {
   "display_name": "Python 3 (ipykernel)",
   "language": "python",
   "name": "python3"
  },
  "language_info": {
   "codemirror_mode": {
    "name": "ipython",
    "version": 3
   },
   "file_extension": ".py",
   "mimetype": "text/x-python",
   "name": "python",
   "nbconvert_exporter": "python",
   "pygments_lexer": "ipython3",
   "version": "3.9.7"
  }
 },
 "nbformat": 4,
 "nbformat_minor": 5
}
