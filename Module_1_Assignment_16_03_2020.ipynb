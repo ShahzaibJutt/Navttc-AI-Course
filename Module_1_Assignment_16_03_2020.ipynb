{
 "cells": [
  {
   "cell_type": "code",
   "execution_count": 11,
   "id": "526617ba",
   "metadata": {},
   "outputs": [
    {
     "name": "stdout",
     "output_type": "stream",
     "text": [
      "4\n",
      "24\n"
     ]
    }
   ],
   "source": [
    "#task 1\n",
    "num = int(input())\n",
    "fact = 1\n",
    "for i in range (1,num+1):\n",
    "    fact = fact * i\n",
    "    i = i + 1\n",
    "print(fact)"
   ]
  },
  {
   "cell_type": "code",
   "execution_count": 4,
   "id": "7878897a",
   "metadata": {},
   "outputs": [
    {
     "name": "stdout",
     "output_type": "stream",
     "text": [
      "5\n",
      "*****\n",
      "****\n",
      "***\n",
      "**\n",
      "*\n",
      "\n"
     ]
    }
   ],
   "source": [
    "#task 2\n",
    "rows = int(input())\n",
    "for i in range (rows+1):\n",
    "    print('*'*rows)\n",
    "    rows = rows - 1"
   ]
  },
  {
   "cell_type": "code",
   "execution_count": 6,
   "id": "1cdc58e7",
   "metadata": {},
   "outputs": [
    {
     "name": "stdout",
     "output_type": "stream",
     "text": [
      "5\n",
      "3\n",
      "31\n"
     ]
    }
   ],
   "source": [
    "#task 3\n",
    "x = int(input())\n",
    "n = int(input())\n",
    "total = 0\n",
    "for i in range (0,n):\n",
    "    total = total + pow(x,i)\n",
    "print(total)"
   ]
  },
  {
   "cell_type": "code",
   "execution_count": 12,
   "id": "0b67e31d",
   "metadata": {},
   "outputs": [
    {
     "name": "stdout",
     "output_type": "stream",
     "text": [
      "5\n",
      "- - - - - - - - - - \n",
      "+ - + - + - + - + - \n",
      "- + - + - + - + - + \n",
      "+ - + - + - + - + - \n",
      "- + - + - + - + - + \n",
      "- - - - - - - - - - \n"
     ]
    }
   ],
   "source": [
    "#task 4\n",
    "rows = int(input())\n",
    "for i in range(rows+1):\n",
    "    if(i == 0 or i == rows):\n",
    "        print('- - '*rows)\n",
    "    elif(i%2==0):\n",
    "        print('- + '*rows)\n",
    "    else:\n",
    "        print('+ - '*rows)"
   ]
  },
  {
   "cell_type": "code",
   "execution_count": 1,
   "id": "dcde2865",
   "metadata": {},
   "outputs": [
    {
     "name": "stdout",
     "output_type": "stream",
     "text": [
      "5\n",
      "3\n",
      "18.5\n"
     ]
    }
   ],
   "source": [
    "#task 5\n",
    "def factorial(x):\n",
    "    if x == 1:\n",
    "        return 1\n",
    "    else:\n",
    "        return (x * factorial(x-1))\n",
    "\n",
    "x = int(input())\n",
    "n = int(input())\n",
    "total = 1\n",
    "for i in range (1,n):\n",
    "    total = total + pow(x,i)/factorial(i)\n",
    "print(total)"
   ]
  },
  {
   "cell_type": "code",
   "execution_count": 7,
   "id": "e77fe34f",
   "metadata": {},
   "outputs": [
    {
     "name": "stdout",
     "output_type": "stream",
     "text": [
      "Enter the number n: 7\n",
      "0\n",
      "1\n",
      "1\n",
      "2\n",
      "3\n",
      "5\n",
      "8\n",
      "13\n"
     ]
    }
   ],
   "source": [
    "#task 6\n",
    "n = int(input(\"Enter the number n: \"))\n",
    "series = [0,1]\n",
    "a = 0\n",
    "b = 1\n",
    "print(a)\n",
    "print(b)\n",
    "for i in range(2,n+1):\n",
    "    c = a+b\n",
    "    print(c)\n",
    "    a = b\n",
    "    b = c"
   ]
  }
 ],
 "metadata": {
  "kernelspec": {
   "display_name": "Python 3 (ipykernel)",
   "language": "python",
   "name": "python3"
  },
  "language_info": {
   "codemirror_mode": {
    "name": "ipython",
    "version": 3
   },
   "file_extension": ".py",
   "mimetype": "text/x-python",
   "name": "python",
   "nbconvert_exporter": "python",
   "pygments_lexer": "ipython3",
   "version": "3.9.7"
  }
 },
 "nbformat": 4,
 "nbformat_minor": 5
}
