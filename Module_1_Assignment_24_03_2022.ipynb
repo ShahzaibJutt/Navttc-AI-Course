{
 "cells": [
  {
   "cell_type": "code",
   "execution_count": 2,
   "id": "c3e54bf1",
   "metadata": {},
   "outputs": [
    {
     "name": "stdout",
     "output_type": "stream",
     "text": [
      "Enter number 1: 8\n",
      "Enter number 2: 2\n",
      "1. Add\n",
      "2. Sub\n",
      "3. Multiplicatio\n",
      "4. Division\n",
      "4\n",
      "4.0\n"
     ]
    }
   ],
   "source": [
    "#task 1\n",
    "def add(a, b):\n",
    "    return a+b\n",
    "def sub(a, b):\n",
    "    return a-b\n",
    "def mul(a, b):\n",
    "    return a*b\n",
    "def div(a,b):\n",
    "    return a/b\n",
    "a = int(input(\"Enter number 1: \"))\n",
    "b = int(input(\"Enter number 2: \"))\n",
    "print('1. Add\\n2. Sub\\n3. Multiplicatio\\n4. Division')\n",
    "choice = int(input())\n",
    "if choice == 1:\n",
    "    res = add(a,b)\n",
    "elif choice == 2:\n",
    "    res = sub(a,b)\n",
    "elif choice == 3:\n",
    "    res = mul(a,b)\n",
    "elif choice == 4:\n",
    "    res = div(a,b)\n",
    "print(res)"
   ]
  },
  {
   "cell_type": "code",
   "execution_count": 19,
   "id": "869a83bd",
   "metadata": {},
   "outputs": [
    {
     "name": "stdout",
     "output_type": "stream",
     "text": [
      "0\n",
      "1\n",
      "1\n",
      "2\n",
      "3\n",
      "5\n"
     ]
    }
   ],
   "source": [
    "#task 2\n",
    "def fib():\n",
    "    print(0)\n",
    "    print(1)\n",
    "    a = 0\n",
    "    b = 1\n",
    "    for i in range(2,6):\n",
    "        c = a+b\n",
    "        print(c)\n",
    "        a = b\n",
    "        b = c\n",
    "fib()\n"
   ]
  },
  {
   "cell_type": "code",
   "execution_count": 4,
   "id": "9f715bff",
   "metadata": {},
   "outputs": [
    {
     "name": "stdout",
     "output_type": "stream",
     "text": [
      "[(1.0605752387249068e-16+1.7320508075688772j), (5.302876193624534e-17+0.8660254037844386j), (3.5352507957496895e-17+0.5773502691896257j), (2.651438096812267e-17+0.4330127018922193j), (2.1211504774498136e-17+0.34641016151377546j), (1.4998798865218462e-16+2.449489742783178j), (7.499399432609231e-17+1.224744871391589j), (4.9995996217394874e-17+0.8164965809277259j), (3.7496997163046154e-17+0.6123724356957945j), (2.999759773043692e-17+0.4898979485566356j), (1.8369701987210297e-16+3j), (9.184850993605148e-17+1.5j), (6.123233995736766e-17+1j), (4.592425496802574e-17+0.75j), (3.6739403974420595e-17+0.6j), (2.1211504774498136e-16+3.4641016151377544j), (1.0605752387249068e-16+1.7320508075688772j), (7.070501591499379e-17+1.1547005383792515j), (5.302876193624534e-17+0.8660254037844386j), (4.242300954899627e-17+0.6928203230275509j), (2.3715183290419594e-16+3.872983346207417j), (1.1857591645209797e-16+1.9364916731037085j), (7.905061096806531e-17+1.2909944487358056j), (5.928795822604899e-17+0.9682458365518543j), (4.743036658083919e-17+0.7745966692414834j)]\n"
     ]
    }
   ],
   "source": [
    "#task 4\n",
    "l = [1,2,3,4,5]\n",
    "l2 = [x-4*x for x in l]\n",
    "l2 = [x ** 0.5 for x in l2]\n",
    "l2 = [(x/j) for x in l2 for j in l]\n",
    "#todo\n",
    "print(l2)"
   ]
  },
  {
   "cell_type": "code",
   "execution_count": 63,
   "id": "2bd69d49",
   "metadata": {},
   "outputs": [
    {
     "name": "stdout",
     "output_type": "stream",
     "text": [
      "Enter year: 2000\n",
      "Leap year\n"
     ]
    }
   ],
   "source": [
    "#Challenging Question\n",
    "year = int(input(\"Enter year: \"))\n",
    "if year % 4 == 0 and year % 100 == 0 and year % 400 == 0:\n",
    "    print(\"Leap year\")\n",
    "else:\n",
    "    print(\"Not a leap year\")"
   ]
  }
 ],
 "metadata": {
  "kernelspec": {
   "display_name": "Python 3 (ipykernel)",
   "language": "python",
   "name": "python3"
  },
  "language_info": {
   "codemirror_mode": {
    "name": "ipython",
    "version": 3
   },
   "file_extension": ".py",
   "mimetype": "text/x-python",
   "name": "python",
   "nbconvert_exporter": "python",
   "pygments_lexer": "ipython3",
   "version": "3.9.7"
  }
 },
 "nbformat": 4,
 "nbformat_minor": 5
}
