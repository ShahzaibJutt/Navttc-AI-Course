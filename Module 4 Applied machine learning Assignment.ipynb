{
 "cells": [
  {
   "cell_type": "code",
   "execution_count": 13,
   "id": "1e4323ca",
   "metadata": {},
   "outputs": [
    {
     "data": {
      "text/plain": [
       "Color        0\n",
       "Eye_color    0\n",
       "Height       0\n",
       "Legs         0\n",
       "Moustache    0\n",
       "Tail         0\n",
       "Weight       0\n",
       "label        0\n",
       "dtype: int64"
      ]
     },
     "execution_count": 13,
     "metadata": {},
     "output_type": "execute_result"
    }
   ],
   "source": [
    "# Task 1\n",
    "import pandas as pd\n",
    "cat_human = pd.read_csv('cat_human.csv')\n",
    "# No cleaning required"
   ]
  },
  {
   "cell_type": "code",
   "execution_count": 104,
   "id": "70764f87",
   "metadata": {},
   "outputs": [
    {
     "data": {
      "text/plain": [
       "array([[0.7363896848137534, 0.5, 0, 0.8793969849246231],\n",
       "       [0.9742120343839541, 0.5, 0, 0.8090452261306534],\n",
       "       [0.7163323782234956, 0.5, 0, 0.8140703517587939],\n",
       "       [0.8452722063037249, 0.5, 0, 0.9899497487437187],\n",
       "       [0.9398280802292263, 0.5, 0, 0.9195979899497488],\n",
       "       [0.7965616045845271, 0.5, 0, 0.8190954773869348],\n",
       "       [0.8538681948424068, 0.5, 0, 0.834170854271357],\n",
       "       [0.8710601719197707, 0.5, 0, 0.6884422110552764],\n",
       "       [0.7994269340974212, 0.5, 0, 0.5979899497487438],\n",
       "       [0.8681948424068767, 0.5, 0, 0.7638190954773869],\n",
       "       [0.7879656160458453, 0.5, 0, 0.7135678391959799],\n",
       "       [0.9598853868194842, 0.5, 0, 0.5025125628140704],\n",
       "       [0.9713467048710601, 0.5, 0, 0.7788944723618091],\n",
       "       [0.8108882521489971, 0.5, 0, 0.884422110552764],\n",
       "       [0.8223495702005731, 0.5, 0, 0.8492462311557789],\n",
       "       [0.9885386819484241, 0.5, 0, 0.507537688442211],\n",
       "       [0.7507163323782234, 0.5, 0, 0.5427135678391961],\n",
       "       [0.9255014326647564, 0.5, 0, 0.8391959798994975],\n",
       "       [0.7449856733524355, 0.5, 0, 0.9798994974874372],\n",
       "       [0.8624641833810887, 0.5, 0, 0.6030150753768845],\n",
       "       [0.9226361031518625, 0.5, 0, 0.7839195979899498],\n",
       "       [0.7478510028653295, 0.5, 0, 0.9045226130653267],\n",
       "       [0.7908309455587391, 0.5, 0, 0.5527638190954774],\n",
       "       [0.8968481375358165, 0.5, 0, 0.7889447236180904],\n",
       "       [0.9570200573065901, 0.5, 0, 0.5879396984924623],\n",
       "       [0.8939828080229226, 0.5, 0, 0.8693467336683418],\n",
       "       [0.7306590257879655, 0.5, 0, 0.9648241206030151],\n",
       "       [0.9455587392550142, 0.5, 0, 0.6733668341708543],\n",
       "       [0.8739255014326647, 0.5, 0, 0.8442211055276383],\n",
       "       [0.7736389684813754, 0.5, 0, 0.9296482412060302],\n",
       "       [0.8911174785100285, 0.5, 0, 0.984924623115578],\n",
       "       [0.7392550143266475, 0.5, 0, 0.9447236180904524],\n",
       "       [0.98567335243553, 0.5, 0, 0.5577889447236181],\n",
       "       [1.0, 0.5, 0, 0.6482412060301508],\n",
       "       [0.9197707736389684, 0.5, 0, 0.6633165829145728],\n",
       "       [0.816618911174785, 0.5, 0, 0.8040201005025126],\n",
       "       [0.7277936962750716, 0.5, 0, 0.7336683417085428],\n",
       "       [0.9971346704871059, 0.5, 0, 0.8643216080402011],\n",
       "       [0.9111747851002865, 0.5, 0, 0.7035175879396985],\n",
       "       [0.7936962750716332, 0.5, 0, 0.8542713567839196],\n",
       "       [0.8366762177650429, 0.5, 0, 0.5678391959798996],\n",
       "       [0.9312320916905443, 0.5, 0, 0.798994974874372],\n",
       "       [0.8767908309455587, 0.5, 0, 0.6381909547738693],\n",
       "       [0.9369627507163323, 0.5, 0, 0.6180904522613067],\n",
       "       [0.9484240687679083, 0.5, 0, 0.6231155778894473],\n",
       "       [0.8595988538681948, 0.5, 0, 0.9698492462311559],\n",
       "       [0.7793696275071633, 0.5, 0, 0.5175879396984925],\n",
       "       [0.991404011461318, 0.5, 0, 0.628140703517588],\n",
       "       [0.8051575931232091, 0.5, 0, 0.8592964824120605],\n",
       "       [0.9054441260744985, 0.5, 0, 0.8994974874371859],\n",
       "       [0.8796561604584526, 0.5, 0, 0.5125628140703518],\n",
       "       [0.9541547277936963, 0.5, 0, 0.9597989949748745],\n",
       "       [0.9083094555873925, 0.5, 0, 0.6532663316582915],\n",
       "       [0.9627507163323781, 0.5, 0, 0.6683417085427137],\n",
       "       [0.9426934097421203, 0.5, 0, 0.5226130653266332],\n",
       "       [0.9828080229226361, 0.5, 0, 0.9748743718592965],\n",
       "       [0.7707736389684813, 0.5, 0, 0.7939698492462313],\n",
       "       [0.8853868194842406, 0.5, 0, 0.5276381909547739],\n",
       "       [0.8424068767908309, 0.5, 0, 0.5829145728643216],\n",
       "       [0.994269340974212, 0.5, 0, 0.7537688442211056],\n",
       "       [0.9512893982808022, 0.5, 0, 0.7236180904522613],\n",
       "       [0.7220630372492837, 0.5, 0, 0.7286432160804021],\n",
       "       [0.9283667621776505, 0.5, 0, 0.5728643216080402],\n",
       "       [0.979942693409742, 0.5, 0, 0.6582914572864322],\n",
       "       [0.9770773638968481, 0.5, 0, 0.5628140703517588],\n",
       "       [0.7679083094555874, 0.5, 0, 0.5376884422110553],\n",
       "       [0.8022922636103151, 0.5, 0, 0.7386934673366834],\n",
       "       [0.8997134670487106, 0.5, 0, 0.9396984924623116],\n",
       "       [0.819484240687679, 0.5, 0, 0.6331658291457287],\n",
       "       [0.825214899713467, 0.5, 0, 0.7738693467336684],\n",
       "       [0.833810888252149, 0.5, 0, 0.7688442211055277],\n",
       "       [0.8653295128939827, 0.5, 0, 0.6984924623115578],\n",
       "       [0.7564469914040115, 0.5, 0, 0.7185929648241207],\n",
       "       [0.7421203438395415, 0.5, 0, 0.6834170854271358],\n",
       "       [0.8882521489971347, 0.5, 0, 1.0],\n",
       "       [0.8481375358166189, 0.5, 0, 0.5326633165829145],\n",
       "       [0.7335243553008596, 0.5, 0, 0.8944723618090453],\n",
       "       [0.9025787965616046, 0.5, 0, 0.8291457286432161],\n",
       "       [0.7851002865329513, 0.5, 0, 0.8743718592964824],\n",
       "       [0.9140401146131805, 0.5, 0, 0.7587939698492463],\n",
       "       [0.9684813753581661, 0.5, 0, 0.8894472361809046],\n",
       "       [0.7535816618911174, 0.5, 0, 0.9949748743718594],\n",
       "       [0.7593123209169054, 0.5, 0, 0.6130653266331658],\n",
       "       [0.7191977077363896, 0.5, 0, 0.6080402010050252],\n",
       "       [0.8510028653295129, 0.5, 0, 0.5477386934673367],\n",
       "       [0.7621776504297995, 0.5, 0, 0.7085427135678393],\n",
       "       [0.828080229226361, 0.5, 0, 0.9145728643216081],\n",
       "       [0.7765042979942692, 0.5, 0, 0.934673366834171],\n",
       "       [0.8309455587392549, 0.5, 0, 0.9246231155778895],\n",
       "       [0.8567335243553009, 0.5, 0, 0.7487437185929648],\n",
       "       [0.8825214899713467, 0.5, 0, 0.949748743718593],\n",
       "       [0.839541547277937, 0.5, 0, 0.678391959798995],\n",
       "       [0.8080229226361031, 0.5, 0, 0.5929648241206031],\n",
       "       [0.9656160458452722, 0.5, 0, 0.8241206030150754],\n",
       "       [0.7822349570200573, 0.5, 0, 0.6934673366834172],\n",
       "       [0.7650429799426933, 0.5, 0, 0.6432160804020102],\n",
       "       [0.9169054441260744, 0.5, 0, 0.7437185929648242],\n",
       "       [0.9340974212034383, 0.5, 0, 0.9547738693467337],\n",
       "       [0.813753581661891, 0.5, 0, 0.577889447236181],\n",
       "       [0.7249283667621775, 0.5, 0, 0.9095477386934675],\n",
       "       [0.1518624641833811, 1.0, 1, 0.045008878982412064],\n",
       "       [0.09455587392550144, 1.0, 1, 0.03556315412060302],\n",
       "       [0.11031518624641834, 1.0, 1, 0.009115124494974874],\n",
       "       [0.1489971346704871, 1.0, 1, 0.0922375033040201],\n",
       "       [0.08595988538681948, 1.0, 1, 0.0072259795213567846],\n",
       "       [0.12464183381088824, 1.0, 1, 0.011004269467336686],\n",
       "       [0.10744985673352435, 1.0, 1, 0.0242282842839196],\n",
       "       [0.12034383954154726, 1.0, 1, 0.08562549590452262],\n",
       "       [0.20487106017191975, 1.0, 1, 0.07523519855527638],\n",
       "       [0.19484240687679083, 1.0, 1, 0.07806891600502514],\n",
       "       [0.19770773638968478, 1.0, 1, 0.0620111837437186],\n",
       "       [0.14326647564469913, 1.0, 1, 0.04406430649497488],\n",
       "       [0.09742120343839542, 1.0, 1, 0.05917746628140704],\n",
       "       [0.11747851002865328, 1.0, 1, 0.06956776363065327],\n",
       "       [0.18051575931232092, 1.0, 1, 0.01478255940954774],\n",
       "       [0.18481375358166188, 1.0, 1, 0.0667340461683417],\n",
       "       [0.17621776504297992, 1.0, 1, 0.07334605358040201],\n",
       "       [0.20630372492836674, 1.0, 1, 0.015727131896984926],\n",
       "       [0.19340974212034384, 1.0, 1, 0.08090263346733668],\n",
       "       [0.17048710601719197, 1.0, 1, 0.022339139309045228],\n",
       "       [0.1819484240687679, 1.0, 1, 0.06295575621859296],\n",
       "       [0.164756446991404, 1.0, 1, 0.020449994334170857],\n",
       "       [0.09312320916905444, 1.0, 1, 0.013837986922110555],\n",
       "       [0.18767908309455586, 1.0, 1, 0.01005969698115578],\n",
       "       [0.19197707736389685, 1.0, 1, 0.09318207579145729],\n",
       "       [0.21203438395415472, 1.0, 1, 0.04217516152010051],\n",
       "       [0.13896848137535817, 1.0, 1, 0.05162088638190956],\n",
       "       [0.08882521489971346, 1.0, 1, 0.032729436658291464],\n",
       "       [0.11604584527220631, 1.0, 1, 0.04123058903266332],\n",
       "       [0.1833810888252149, 1.0, 1, 0.08184720595477388],\n",
       "       [0.15329512893982808, 1.0, 1, 0.050676313894472365],\n",
       "       [0.2134670487106017, 1.0, 1, 0.07240148109296483],\n",
       "       [0.07879656160458452, 1.0, 1, 0.05256545886934674],\n",
       "       [0.13467048710601717, 1.0, 1, 0.046898023957286435],\n",
       "       [0.08739255014326647, 1.0, 1, 0.07901348849246231],\n",
       "       [0.07306590257879655, 1.0, 1, 0.04784259644472362],\n",
       "       [0.17191977077363896, 1.0, 1, 0.07051233611809046],\n",
       "       [0.11174785100286533, 1.0, 1, 0.08940378584170855],\n",
       "       [0.10601719197707736, 1.0, 1, 0.05728832130653267],\n",
       "       [0.08022922636103152, 1.0, 1, 0.025172856758793972],\n",
       "       [0.09025787965616046, 1.0, 1, 0.03178486417085428],\n",
       "       [0.09169054441260745, 1.0, 1, 0.039341444057788943],\n",
       "       [0.18624641833810887, 1.0, 1, 0.03839687157035176],\n",
       "       [0.15759312320916904, 1.0, 1, 0.054454603844221114],\n",
       "       [0.1504297994269341, 1.0, 1, 0.0676786186557789],\n",
       "       [0.15902578796561606, 1.0, 1, 0.012893414434673369],\n",
       "       [0.0816618911174785, 1.0, 1, 0.06106661125628141],\n",
       "       [0.07449856733524356, 1.0, 1, 0.06578947368090453],\n",
       "       [0.16618911174785098, 1.0, 1, 0.023283711796482413],\n",
       "       [0.10888252148997134, 1.0, 1, 0.09696036574120603],\n",
       "       [0.13753581661891115, 1.0, 1, 0.08373635092964825],\n",
       "       [0.1146131805157593, 1.0, 1, 0.01194884195351759],\n",
       "       [0.20057306590257878, 1.0, 1, 0.021394566821608042],\n",
       "       [0.09885386819484239, 1.0, 1, 0.09412664827889447],\n",
       "       [0.19627507163323782, 1.0, 1, 0.04595345146984925],\n",
       "       [0.14183381088825214, 1.0, 1, 0.008170552007537689],\n",
       "       [0.08309455587392549, 1.0, 1, 0.056343748819095485],\n",
       "       [0.12177650429799426, 1.0, 1, 0.0865700683919598],\n",
       "       [0.1303724928366762, 1.0, 1, 0.018560849359296486],\n",
       "       [0.19054441260744986, 1.0, 1, 0.09034835832914573],\n",
       "       [0.16189111747851, 1.0, 1, 0.09790493822864321],\n",
       "       [0.14040114613180515, 1.0, 1, 0.09601579325376884],\n",
       "       [0.17335243553008595, 1.0, 1, 0.06012203876884423],\n",
       "       [0.14469914040114612, 1.0, 1, 0.028006574221105533],\n",
       "       [0.10171919770773638, 1.0, 1, 0.07617977103015076],\n",
       "       [0.20200573065902577, 1.0, 1, 0.08751464087939699],\n",
       "       [0.07163323782234957, 1.0, 1, 0.01667170438442211],\n",
       "       [0.1790830945558739, 1.0, 1, 0.048787168932160806],\n",
       "       [0.1776504297994269, 1.0, 1, 0.06862319114321609],\n",
       "       [0.10315186246418337, 1.0, 1, 0.09507122076633166],\n",
       "       [0.12750716332378223, 1.0, 1, 0.03745229909547739],\n",
       "       [0.16762177650429796, 1.0, 1, 0.01950542184673367],\n",
       "       [0.12320916905444125, 1.0, 1, 0.07712434351758794],\n",
       "       [0.09598853868194843, 1.0, 1, 0.040286016545226136],\n",
       "       [0.18911174785100288, 1.0, 1, 0.00628140703517588],\n",
       "       [0.1318051575931232, 1.0, 1, 0.017616276871859297],\n",
       "       [0.15616045845272206, 1.0, 1, 0.06390032870603016],\n",
       "       [0.21060171919770773, 1.0, 1, 0.029895719195979904],\n",
       "       [0.12607449856733524, 1.0, 1, 0.0742906260678392],\n",
       "       [0.20916905444126072, 1.0, 1, 0.04973174141959799],\n",
       "       [0.13610315186246416, 1.0, 1, 0.09979408320351758],\n",
       "       [0.16905444126074495, 1.0, 1, 0.03367400914572865],\n",
       "       [0.12893982808022922, 1.0, 1, 0.03084029168341709],\n",
       "       [0.10028653295128939, 1.0, 1, 0.08845921335427136],\n",
       "       [0.17478510028653294, 1.0, 1, 0.036507726608040206],\n",
       "       [0.16045845272206305, 1.0, 1, 0.026117429246231158],\n",
       "       [0.10458452722063036, 1.0, 1, 0.06484490119346734],\n",
       "       [0.07736389684813753, 1.0, 1, 0.09129293081658292],\n",
       "       [0.1461318051575931, 1.0, 1, 0.05351003135678393],\n",
       "       [0.08452722063037248, 1.0, 1, 0.0553991763316583],\n",
       "       [0.1332378223495702, 1.0, 1, 0.04311973400753769],\n",
       "       [0.20773638968481373, 1.0, 1, 0.08468092341708543],\n",
       "       [0.11318051575931232, 1.0, 1, 0.034618581633165835],\n",
       "       [0.15472779369627507, 1.0, 1, 0.027062001733668344],\n",
       "       [0.20343839541547276, 1.0, 1, 0.058232893793969856],\n",
       "       [0.163323782234957, 1.0, 1, 0.028951146708542718],\n",
       "       [0.19914040114613177, 1.0, 1, 0.07145690860552764],\n",
       "       [0.07593123209169055, 1.0, 1, 0.0799580609798995],\n",
       "       [0.1475644699140401, 1.0, 1, 0.08279177844221106],\n",
       "       [0.11891117478510027, 1.0, 1, 0.0988495107160804]], dtype=object)"
      ]
     },
     "execution_count": 104,
     "metadata": {},
     "output_type": "execute_result"
    }
   ],
   "source": [
    "# Task 2\n",
    "import numpy as np\n",
    "\n",
    "# Dropping Coloumns\n",
    "# del cat_human[\"Color\",\"Eye_color\",\"Moustache\",]\n",
    "\n",
    "# Separate features and labels\n",
    "X = np.c_[cat_human.iloc[:,0:4]]\n",
    "Y = cat_human.iloc[:,4]\n",
    "\n",
    "# Vectorization\n",
    "import sklearn.preprocessing as sp\n",
    "encoder = sp.LabelEncoder()\n",
    "Y1 = encoder.fit_transform(Y).reshape(-1,1)\n",
    "X[:,0] = X[:,0]/X[:,0].max()\n",
    "X[:,1] = X[:,1]/X[:,1].max()\n",
    "X[:,2] = encoder.fit_transform(X[:,2])\n",
    "X[:,3] = X[:,3]/X[:,3].max()\n",
    "\n"
   ]
  },
  {
   "cell_type": "code",
   "execution_count": 115,
   "id": "16c20f2c",
   "metadata": {},
   "outputs": [
    {
     "name": "stderr",
     "output_type": "stream",
     "text": [
      "C:\\Users\\Huraira Dogar\\anaconda3\\lib\\site-packages\\sklearn\\utils\\validation.py:63: DataConversionWarning: A column-vector y was passed when a 1d array was expected. Please change the shape of y to (n_samples, ), for example using ravel().\n",
      "  return f(*args, **kwargs)\n"
     ]
    },
    {
     "data": {
      "text/plain": [
       "LogisticRegression()"
      ]
     },
     "execution_count": 115,
     "metadata": {},
     "output_type": "execute_result"
    },
    {
     "name": "stderr",
     "output_type": "stream",
     "text": [
      "C:\\Users\\Huraira Dogar\\anaconda3\\lib\\site-packages\\sklearn\\utils\\validation.py:63: DataConversionWarning: A column-vector y was passed when a 1d array was expected. Please change the shape of y to (n_samples, ), for example using ravel().\n",
      "  return f(*args, **kwargs)\n",
      "C:\\Users\\Huraira Dogar\\anaconda3\\lib\\site-packages\\sklearn\\utils\\validation.py:63: DataConversionWarning: A column-vector y was passed when a 1d array was expected. Please change the shape of y to (n_samples, ), for example using ravel().\n",
      "  return f(*args, **kwargs)\n",
      "C:\\Users\\Huraira Dogar\\anaconda3\\lib\\site-packages\\sklearn\\utils\\validation.py:63: DataConversionWarning: A column-vector y was passed when a 1d array was expected. Please change the shape of y to (n_samples, ), for example using ravel().\n",
      "  return f(*args, **kwargs)\n",
      "C:\\Users\\Huraira Dogar\\anaconda3\\lib\\site-packages\\sklearn\\utils\\validation.py:63: DataConversionWarning: A column-vector y was passed when a 1d array was expected. Please change the shape of y to (n_samples, ), for example using ravel().\n",
      "  return f(*args, **kwargs)\n",
      "C:\\Users\\Huraira Dogar\\anaconda3\\lib\\site-packages\\sklearn\\utils\\validation.py:63: DataConversionWarning: A column-vector y was passed when a 1d array was expected. Please change the shape of y to (n_samples, ), for example using ravel().\n",
      "  return f(*args, **kwargs)\n"
     ]
    },
    {
     "data": {
      "text/plain": [
       "array([[78,  0],\n",
       "       [ 0, 72]], dtype=int64)"
      ]
     },
     "execution_count": 115,
     "metadata": {},
     "output_type": "execute_result"
    }
   ],
   "source": [
    "# Task 3\n",
    "from sklearn.model_selection import train_test_split\n",
    "train_x,test_x,train_y,test_y=train_test_split(X,Y1)\n",
    "import sklearn.linear_model as lm\n",
    "model=lm.LogisticRegression()\n",
    "model.fit(train_x,train_y)\n",
    "pred_y=model.predict(test_x)\n",
    "import sklearn.model_selection as ms\n",
    "from sklearn.metrics import confusion_matrix\n",
    "y_train_pred = ms.cross_val_predict(model, train_x, train_y)\n",
    "pred_y=model.predict(test_x)\n",
    "\n",
    "\n",
    "conf_mx = confusion_matrix(test_y, pred_y)\n",
    "conf_mx = confusion_matrix(train_y, y_train_pred)\n",
    "conf_mx"
   ]
  },
  {
   "cell_type": "code",
   "execution_count": 107,
   "id": "c60f423e",
   "metadata": {},
   "outputs": [
    {
     "name": "stderr",
     "output_type": "stream",
     "text": [
      "C:\\Users\\Huraira Dogar\\anaconda3\\lib\\site-packages\\sklearn\\utils\\validation.py:63: DataConversionWarning: A column-vector y was passed when a 1d array was expected. Please change the shape of y to (n_samples, ), for example using ravel().\n",
      "  return f(*args, **kwargs)\n"
     ]
    },
    {
     "data": {
      "text/plain": [
       "SVC(kernel='linear')"
      ]
     },
     "execution_count": 107,
     "metadata": {},
     "output_type": "execute_result"
    },
    {
     "name": "stdout",
     "output_type": "stream",
     "text": [
      "              precision    recall  f1-score   support\n",
      "\n",
      "           0       1.00      1.00      1.00        26\n",
      "           1       1.00      1.00      1.00        24\n",
      "\n",
      "    accuracy                           1.00        50\n",
      "   macro avg       1.00      1.00      1.00        50\n",
      "weighted avg       1.00      1.00      1.00        50\n",
      "\n"
     ]
    },
    {
     "name": "stderr",
     "output_type": "stream",
     "text": [
      "C:\\Users\\Huraira Dogar\\anaconda3\\lib\\site-packages\\sklearn\\utils\\validation.py:63: DataConversionWarning: A column-vector y was passed when a 1d array was expected. Please change the shape of y to (n_samples, ), for example using ravel().\n",
      "  return f(*args, **kwargs)\n",
      "C:\\Users\\Huraira Dogar\\anaconda3\\lib\\site-packages\\sklearn\\utils\\validation.py:63: DataConversionWarning: A column-vector y was passed when a 1d array was expected. Please change the shape of y to (n_samples, ), for example using ravel().\n",
      "  return f(*args, **kwargs)\n",
      "C:\\Users\\Huraira Dogar\\anaconda3\\lib\\site-packages\\sklearn\\utils\\validation.py:63: DataConversionWarning: A column-vector y was passed when a 1d array was expected. Please change the shape of y to (n_samples, ), for example using ravel().\n",
      "  return f(*args, **kwargs)\n",
      "C:\\Users\\Huraira Dogar\\anaconda3\\lib\\site-packages\\sklearn\\utils\\validation.py:63: DataConversionWarning: A column-vector y was passed when a 1d array was expected. Please change the shape of y to (n_samples, ), for example using ravel().\n",
      "  return f(*args, **kwargs)\n",
      "C:\\Users\\Huraira Dogar\\anaconda3\\lib\\site-packages\\sklearn\\utils\\validation.py:63: DataConversionWarning: A column-vector y was passed when a 1d array was expected. Please change the shape of y to (n_samples, ), for example using ravel().\n",
      "  return f(*args, **kwargs)\n"
     ]
    },
    {
     "data": {
      "text/plain": [
       "array([[74,  0],\n",
       "       [ 0, 76]], dtype=int64)"
      ]
     },
     "execution_count": 107,
     "metadata": {},
     "output_type": "execute_result"
    }
   ],
   "source": [
    "import sklearn.svm as sv\n",
    "import sklearn.metrics as sm\n",
    "model=sv.SVC(kernel='linear')\n",
    "model.fit(train_x,train_y)\n",
    "pred_y=model.predict(test_x)\n",
    "print(sm.classification_report(test_y,pred_y))\n",
    "import sklearn.model_selection as ms\n",
    "from sklearn.metrics import confusion_matrix\n",
    "y_train_pred = ms.cross_val_predict(model, train_x, train_y)\n",
    "conf_mx = confusion_matrix(train_y, y_train_pred)\n",
    "conf_mx"
   ]
  },
  {
   "cell_type": "code",
   "execution_count": 119,
   "id": "6dafa9b8",
   "metadata": {},
   "outputs": [
    {
     "name": "stderr",
     "output_type": "stream",
     "text": [
      "C:\\Users\\Huraira Dogar\\anaconda3\\lib\\site-packages\\sklearn\\utils\\validation.py:63: DataConversionWarning: A column-vector y was passed when a 1d array was expected. Please change the shape of y to (n_samples, ), for example using ravel().\n",
      "  return f(*args, **kwargs)\n"
     ]
    },
    {
     "data": {
      "text/plain": [
       "SVC(degree=100, kernel='poly')"
      ]
     },
     "execution_count": 119,
     "metadata": {},
     "output_type": "execute_result"
    },
    {
     "name": "stdout",
     "output_type": "stream",
     "text": [
      "              precision    recall  f1-score   support\n",
      "\n",
      "           0       0.00      0.00      0.00        22\n",
      "           1       0.56      1.00      0.72        28\n",
      "\n",
      "    accuracy                           0.56        50\n",
      "   macro avg       0.28      0.50      0.36        50\n",
      "weighted avg       0.31      0.56      0.40        50\n",
      "\n"
     ]
    },
    {
     "name": "stderr",
     "output_type": "stream",
     "text": [
      "C:\\Users\\Huraira Dogar\\anaconda3\\lib\\site-packages\\sklearn\\metrics\\_classification.py:1248: UndefinedMetricWarning: Precision and F-score are ill-defined and being set to 0.0 in labels with no predicted samples. Use `zero_division` parameter to control this behavior.\n",
      "  _warn_prf(average, modifier, msg_start, len(result))\n",
      "C:\\Users\\Huraira Dogar\\anaconda3\\lib\\site-packages\\sklearn\\metrics\\_classification.py:1248: UndefinedMetricWarning: Precision and F-score are ill-defined and being set to 0.0 in labels with no predicted samples. Use `zero_division` parameter to control this behavior.\n",
      "  _warn_prf(average, modifier, msg_start, len(result))\n",
      "C:\\Users\\Huraira Dogar\\anaconda3\\lib\\site-packages\\sklearn\\metrics\\_classification.py:1248: UndefinedMetricWarning: Precision and F-score are ill-defined and being set to 0.0 in labels with no predicted samples. Use `zero_division` parameter to control this behavior.\n",
      "  _warn_prf(average, modifier, msg_start, len(result))\n",
      "C:\\Users\\Huraira Dogar\\anaconda3\\lib\\site-packages\\sklearn\\utils\\validation.py:63: DataConversionWarning: A column-vector y was passed when a 1d array was expected. Please change the shape of y to (n_samples, ), for example using ravel().\n",
      "  return f(*args, **kwargs)\n",
      "C:\\Users\\Huraira Dogar\\anaconda3\\lib\\site-packages\\sklearn\\utils\\validation.py:63: DataConversionWarning: A column-vector y was passed when a 1d array was expected. Please change the shape of y to (n_samples, ), for example using ravel().\n",
      "  return f(*args, **kwargs)\n",
      "C:\\Users\\Huraira Dogar\\anaconda3\\lib\\site-packages\\sklearn\\utils\\validation.py:63: DataConversionWarning: A column-vector y was passed when a 1d array was expected. Please change the shape of y to (n_samples, ), for example using ravel().\n",
      "  return f(*args, **kwargs)\n",
      "C:\\Users\\Huraira Dogar\\anaconda3\\lib\\site-packages\\sklearn\\utils\\validation.py:63: DataConversionWarning: A column-vector y was passed when a 1d array was expected. Please change the shape of y to (n_samples, ), for example using ravel().\n",
      "  return f(*args, **kwargs)\n",
      "C:\\Users\\Huraira Dogar\\anaconda3\\lib\\site-packages\\sklearn\\utils\\validation.py:63: DataConversionWarning: A column-vector y was passed when a 1d array was expected. Please change the shape of y to (n_samples, ), for example using ravel().\n",
      "  return f(*args, **kwargs)\n"
     ]
    },
    {
     "data": {
      "text/plain": [
       "array([[ 0, 78],\n",
       "       [ 0, 72]], dtype=int64)"
      ]
     },
     "execution_count": 119,
     "metadata": {},
     "output_type": "execute_result"
    }
   ],
   "source": [
    "import sklearn.svm as sv\n",
    "import sklearn.metrics as sm\n",
    "model=sv.SVC(kernel='poly' , degree= 100)\n",
    "model.fit(train_x,train_y)\n",
    "pred_y=model.predict(test_x)\n",
    "print(sm.classification_report(test_y,pred_y))\n",
    "import sklearn.model_selection as ms\n",
    "from sklearn.metrics import confusion_matrix\n",
    "y_train_pred = ms.cross_val_predict(model, train_x, train_y)\n",
    "conf_mx = confusion_matrix(train_y, y_train_pred)\n",
    "conf_mx"
   ]
  },
  {
   "cell_type": "code",
   "execution_count": 109,
   "id": "9b2264ca",
   "metadata": {},
   "outputs": [
    {
     "name": "stderr",
     "output_type": "stream",
     "text": [
      "C:\\Users\\Huraira Dogar\\anaconda3\\lib\\site-packages\\sklearn\\utils\\validation.py:63: DataConversionWarning: A column-vector y was passed when a 1d array was expected. Please change the shape of y to (n_samples, ), for example using ravel().\n",
      "  return f(*args, **kwargs)\n"
     ]
    },
    {
     "data": {
      "text/plain": [
       "SVC()"
      ]
     },
     "execution_count": 109,
     "metadata": {},
     "output_type": "execute_result"
    },
    {
     "name": "stdout",
     "output_type": "stream",
     "text": [
      "              precision    recall  f1-score   support\n",
      "\n",
      "           0       1.00      1.00      1.00        26\n",
      "           1       1.00      1.00      1.00        24\n",
      "\n",
      "    accuracy                           1.00        50\n",
      "   macro avg       1.00      1.00      1.00        50\n",
      "weighted avg       1.00      1.00      1.00        50\n",
      "\n"
     ]
    },
    {
     "name": "stderr",
     "output_type": "stream",
     "text": [
      "C:\\Users\\Huraira Dogar\\anaconda3\\lib\\site-packages\\sklearn\\utils\\validation.py:63: DataConversionWarning: A column-vector y was passed when a 1d array was expected. Please change the shape of y to (n_samples, ), for example using ravel().\n",
      "  return f(*args, **kwargs)\n",
      "C:\\Users\\Huraira Dogar\\anaconda3\\lib\\site-packages\\sklearn\\utils\\validation.py:63: DataConversionWarning: A column-vector y was passed when a 1d array was expected. Please change the shape of y to (n_samples, ), for example using ravel().\n",
      "  return f(*args, **kwargs)\n",
      "C:\\Users\\Huraira Dogar\\anaconda3\\lib\\site-packages\\sklearn\\utils\\validation.py:63: DataConversionWarning: A column-vector y was passed when a 1d array was expected. Please change the shape of y to (n_samples, ), for example using ravel().\n",
      "  return f(*args, **kwargs)\n",
      "C:\\Users\\Huraira Dogar\\anaconda3\\lib\\site-packages\\sklearn\\utils\\validation.py:63: DataConversionWarning: A column-vector y was passed when a 1d array was expected. Please change the shape of y to (n_samples, ), for example using ravel().\n",
      "  return f(*args, **kwargs)\n",
      "C:\\Users\\Huraira Dogar\\anaconda3\\lib\\site-packages\\sklearn\\utils\\validation.py:63: DataConversionWarning: A column-vector y was passed when a 1d array was expected. Please change the shape of y to (n_samples, ), for example using ravel().\n",
      "  return f(*args, **kwargs)\n"
     ]
    },
    {
     "data": {
      "text/plain": [
       "array([[74,  0],\n",
       "       [ 0, 76]], dtype=int64)"
      ]
     },
     "execution_count": 109,
     "metadata": {},
     "output_type": "execute_result"
    }
   ],
   "source": [
    "import sklearn.svm as sv\n",
    "import sklearn.metrics as sm\n",
    "model=sv.SVC(kernel='rbf')\n",
    "model.fit(train_x,train_y)\n",
    "pred_y=model.predict(test_x)\n",
    "print(sm.classification_report(test_y,pred_y))\n",
    "import sklearn.model_selection as ms\n",
    "from sklearn.metrics import confusion_matrix\n",
    "y_train_pred = ms.cross_val_predict(model, train_x, train_y)\n",
    "conf_mx = confusion_matrix(train_y, y_train_pred)\n",
    "conf_mx"
   ]
  },
  {
   "cell_type": "code",
   "execution_count": 110,
   "id": "bc354132",
   "metadata": {},
   "outputs": [
    {
     "name": "stderr",
     "output_type": "stream",
     "text": [
      "C:\\Users\\Huraira Dogar\\anaconda3\\lib\\site-packages\\sklearn\\utils\\validation.py:63: DataConversionWarning: A column-vector y was passed when a 1d array was expected. Please change the shape of y to (n_samples, ), for example using ravel().\n",
      "  return f(*args, **kwargs)\n"
     ]
    },
    {
     "data": {
      "text/plain": [
       "SVC(kernel='sigmoid')"
      ]
     },
     "execution_count": 110,
     "metadata": {},
     "output_type": "execute_result"
    },
    {
     "name": "stdout",
     "output_type": "stream",
     "text": [
      "              precision    recall  f1-score   support\n",
      "\n",
      "           0       1.00      1.00      1.00        26\n",
      "           1       1.00      1.00      1.00        24\n",
      "\n",
      "    accuracy                           1.00        50\n",
      "   macro avg       1.00      1.00      1.00        50\n",
      "weighted avg       1.00      1.00      1.00        50\n",
      "\n"
     ]
    },
    {
     "name": "stderr",
     "output_type": "stream",
     "text": [
      "C:\\Users\\Huraira Dogar\\anaconda3\\lib\\site-packages\\sklearn\\utils\\validation.py:63: DataConversionWarning: A column-vector y was passed when a 1d array was expected. Please change the shape of y to (n_samples, ), for example using ravel().\n",
      "  return f(*args, **kwargs)\n",
      "C:\\Users\\Huraira Dogar\\anaconda3\\lib\\site-packages\\sklearn\\utils\\validation.py:63: DataConversionWarning: A column-vector y was passed when a 1d array was expected. Please change the shape of y to (n_samples, ), for example using ravel().\n",
      "  return f(*args, **kwargs)\n",
      "C:\\Users\\Huraira Dogar\\anaconda3\\lib\\site-packages\\sklearn\\utils\\validation.py:63: DataConversionWarning: A column-vector y was passed when a 1d array was expected. Please change the shape of y to (n_samples, ), for example using ravel().\n",
      "  return f(*args, **kwargs)\n",
      "C:\\Users\\Huraira Dogar\\anaconda3\\lib\\site-packages\\sklearn\\utils\\validation.py:63: DataConversionWarning: A column-vector y was passed when a 1d array was expected. Please change the shape of y to (n_samples, ), for example using ravel().\n",
      "  return f(*args, **kwargs)\n",
      "C:\\Users\\Huraira Dogar\\anaconda3\\lib\\site-packages\\sklearn\\utils\\validation.py:63: DataConversionWarning: A column-vector y was passed when a 1d array was expected. Please change the shape of y to (n_samples, ), for example using ravel().\n",
      "  return f(*args, **kwargs)\n"
     ]
    },
    {
     "data": {
      "text/plain": [
       "array([[74,  0],\n",
       "       [ 0, 76]], dtype=int64)"
      ]
     },
     "execution_count": 110,
     "metadata": {},
     "output_type": "execute_result"
    }
   ],
   "source": [
    "import sklearn.svm as sv\n",
    "import sklearn.metrics as sm\n",
    "model=sv.SVC(kernel='sigmoid')\n",
    "model.fit(train_x,train_y)\n",
    "pred_y=model.predict(test_x)\n",
    "print(sm.classification_report(test_y,pred_y))\n",
    "import sklearn.model_selection as ms\n",
    "from sklearn.metrics import confusion_matrix\n",
    "y_train_pred = ms.cross_val_predict(model, train_x, train_y)\n",
    "conf_mx = confusion_matrix(train_y, y_train_pred)\n",
    "conf_mx"
   ]
  },
  {
   "cell_type": "code",
   "execution_count": 112,
   "id": "b1de59a3",
   "metadata": {},
   "outputs": [
    {
     "data": {
      "text/plain": [
       "ExtraTreeClassifier()"
      ]
     },
     "execution_count": 112,
     "metadata": {},
     "output_type": "execute_result"
    },
    {
     "name": "stdout",
     "output_type": "stream",
     "text": [
      "              precision    recall  f1-score   support\n",
      "\n",
      "           0       1.00      1.00      1.00        26\n",
      "           1       1.00      1.00      1.00        24\n",
      "\n",
      "    accuracy                           1.00        50\n",
      "   macro avg       1.00      1.00      1.00        50\n",
      "weighted avg       1.00      1.00      1.00        50\n",
      "\n"
     ]
    },
    {
     "data": {
      "text/plain": [
       "array([1, 1, 1, 0, 1, 0, 1, 1, 1, 1, 1, 0, 1, 0, 1, 1, 0, 1, 0, 0, 0, 1,\n",
       "       0, 1, 0, 1, 1, 1, 0, 1, 1, 0, 0, 0, 1, 0, 0, 0, 1, 1, 0, 0, 1, 1,\n",
       "       0, 1, 1, 0, 1, 0, 0, 1, 1, 0, 0, 0, 1, 1, 1, 1, 0, 0, 0, 1, 1, 0,\n",
       "       0, 1, 0, 0, 1, 0, 0, 1, 0, 1, 1, 0, 0, 0, 0, 1, 0, 1, 1, 0, 0, 1,\n",
       "       1, 0, 0, 1, 1, 0, 0, 0, 0, 1, 0, 1, 0, 0, 1, 0, 0, 1, 1, 1, 1, 1,\n",
       "       1, 0, 1, 1, 1, 1, 0, 1, 0, 1, 0, 0, 0, 1, 1, 0, 0, 1, 1, 0, 0, 0,\n",
       "       1, 1, 0, 1, 1, 0, 0, 1, 0, 1, 0, 0, 0, 1, 1, 0, 1, 0])"
      ]
     },
     "execution_count": 112,
     "metadata": {},
     "output_type": "execute_result"
    },
    {
     "data": {
      "text/plain": [
       "array([[74,  0],\n",
       "       [ 0, 76]], dtype=int64)"
      ]
     },
     "execution_count": 112,
     "metadata": {},
     "output_type": "execute_result"
    }
   ],
   "source": [
    "import sklearn.tree as tr\n",
    "import sklearn.metrics as sm\n",
    "model=tr.ExtraTreeClassifier()\n",
    "model.fit(train_x,train_y)\n",
    "pred_y=model.predict(test_x)\n",
    "print(sm.classification_report(test_y,pred_y))\n",
    "import sklearn.model_selection as ms\n",
    "from sklearn.metrics import confusion_matrix\n",
    "y_train_pred = ms.cross_val_predict(model, train_x, train_y)\n",
    "conf_mx = confusion_matrix(train_y, y_train_pred)\n",
    "conf_mx"
   ]
  }
 ],
 "metadata": {
  "kernelspec": {
   "display_name": "Python 3 (ipykernel)",
   "language": "python",
   "name": "python3"
  },
  "language_info": {
   "codemirror_mode": {
    "name": "ipython",
    "version": 3
   },
   "file_extension": ".py",
   "mimetype": "text/x-python",
   "name": "python",
   "nbconvert_exporter": "python",
   "pygments_lexer": "ipython3",
   "version": "3.9.7"
  }
 },
 "nbformat": 4,
 "nbformat_minor": 5
}
