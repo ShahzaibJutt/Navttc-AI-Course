{
 "cells": [
  {
   "cell_type": "code",
   "execution_count": 1,
   "id": "194469eb",
   "metadata": {},
   "outputs": [
    {
     "name": "stdout",
     "output_type": "stream",
     "text": [
      "[[[9 1]\n",
      "  [2 2]]\n",
      "\n",
      " [[1 3]\n",
      "  [3 2]]\n",
      "\n",
      " [[9 8]\n",
      "  [5 7]]\n",
      "\n",
      " [[4 3]\n",
      "  [2 4]]\n",
      "\n",
      " [[4 1]\n",
      "  [7 8]]\n",
      "\n",
      " [[5 3]\n",
      "  [1 1]]\n",
      "\n",
      " [[7 7]\n",
      "  [2 7]]\n",
      "\n",
      " [[4 7]\n",
      "  [9 4]]\n",
      "\n",
      " [[4 6]\n",
      "  [2 8]]\n",
      "\n",
      " [[6 3]\n",
      "  [1 9]]]\n"
     ]
    }
   ],
   "source": [
    "#task 1\n",
    "import numpy as np\n",
    "arr = np.random.randint(1,10,(10,2,2))\n",
    "print(arr)"
   ]
  },
  {
   "cell_type": "code",
   "execution_count": 37,
   "id": "faf7af8a",
   "metadata": {},
   "outputs": [
    {
     "name": "stdout",
     "output_type": "stream",
     "text": [
      "[[1. 1. 1. 1. 1.]\n",
      " [1. 0. 1. 1. 1.]\n",
      " [1. 1. 1. 1. 1.]\n",
      " [1. 1. 1. 1. 1.]\n",
      " [1. 1. 1. 1. 1.]]\n"
     ]
    }
   ],
   "source": [
    "#task 2\n",
    "import numpy as np\n",
    "arr = np.ones((5,5))\n",
    "arr[1:2:2,:2:2]= 0\n",
    "print(arr)"
   ]
  },
  {
   "cell_type": "code",
   "execution_count": 32,
   "id": "bef2385c",
   "metadata": {},
   "outputs": [
    {
     "name": "stdout",
     "output_type": "stream",
     "text": [
      "[[[1 9 9 7 6]\n",
      "  [5 5 5 5 5]\n",
      "  [8 9 7 2 3]]\n",
      "\n",
      " [[6 8 1 8 7]\n",
      "  [5 5 5 5 5]\n",
      "  [6 5 9 9 2]]\n",
      "\n",
      " [[6 4 5 1 4]\n",
      "  [5 5 5 5 5]\n",
      "  [9 9 8 4 2]]\n",
      "\n",
      " [[8 8 1 3 4]\n",
      "  [5 5 5 5 5]\n",
      "  [2 6 8 7 3]]\n",
      "\n",
      " [[9 2 5 2 5]\n",
      "  [5 5 5 5 5]\n",
      "  [5 2 3 7 5]]\n",
      "\n",
      " [[5 9 7 5 4]\n",
      "  [5 5 5 5 5]\n",
      "  [8 5 9 2 7]]\n",
      "\n",
      " [[3 9 4 6 8]\n",
      "  [5 5 5 5 5]\n",
      "  [7 1 8 8 2]]\n",
      "\n",
      " [[8 7 3 6 1]\n",
      "  [5 5 5 5 5]\n",
      "  [5 2 9 2 2]]\n",
      "\n",
      " [[4 7 6 6 7]\n",
      "  [5 5 5 5 5]\n",
      "  [6 6 8 4 3]]\n",
      "\n",
      " [[3 7 5 7 8]\n",
      "  [5 5 5 5 5]\n",
      "  [9 7 6 7 5]]]\n"
     ]
    }
   ],
   "source": [
    "#task 3\n",
    "arr = np.random.randint(1,10,(10,3,5))\n",
    "arr[:,1,:] = 5\n",
    "print(arr)"
   ]
  },
  {
   "cell_type": "code",
   "execution_count": 34,
   "id": "7f77a023",
   "metadata": {},
   "outputs": [
    {
     "name": "stdout",
     "output_type": "stream",
     "text": [
      "[[[ 8  6 17]\n",
      "  [15 10 12]\n",
      "  [ 4 10 11]]\n",
      "\n",
      " [[18  7  5]\n",
      "  [ 7 11 14]\n",
      "  [ 9  8 13]]\n",
      "\n",
      " [[ 5 11  1]\n",
      "  [13 14  6]\n",
      "  [14 13  5]]]\n",
      "[[[0 0 1]\n",
      "  [1 0 0]\n",
      "  [0 0 1]]\n",
      "\n",
      " [[0 1 1]\n",
      "  [1 1 0]\n",
      "  [1 0 1]]\n",
      "\n",
      " [[1 1 1]\n",
      "  [1 0 0]\n",
      "  [0 1 1]]]\n"
     ]
    }
   ],
   "source": [
    "#task 4\n",
    "arr = np.random.randint(1,20,(3,3,3))\n",
    "print(arr)\n",
    "arr = np.where(arr%2 == 0,0,1)\n",
    "print(arr)"
   ]
  },
  {
   "cell_type": "code",
   "execution_count": 48,
   "id": "4f8735af",
   "metadata": {},
   "outputs": [
    {
     "name": "stdout",
     "output_type": "stream",
     "text": [
      "[[0. 0. 0. 0.]\n",
      " [0. 0. 0. 0.]\n",
      " [0. 0. 0. 0.]\n",
      " [0. 0. 0. 0.]\n",
      " [0. 0. 0. 0.]\n",
      " [0. 0. 0. 0.]]\n"
     ]
    }
   ],
   "source": [
    "#task 5\n",
    "arr = np.zeros((4,3,2))\n",
    "arr = arr.reshape((6,4))\n",
    "print(arr)"
   ]
  },
  {
   "cell_type": "code",
   "execution_count": 56,
   "id": "7b569c67",
   "metadata": {},
   "outputs": [
    {
     "name": "stdout",
     "output_type": "stream",
     "text": [
      "Wall time: 1.99 ms\n",
      "Wall time: 0 ns\n",
      "Wall time: 7.98 ms\n",
      "Wall time: 0 ns\n",
      "Wall time: 65.8 ms\n",
      "Wall time: 0 ns\n"
     ]
    }
   ],
   "source": [
    "#task 6 (a)\n",
    "%time list = [i for i in range(1,1001)]\n",
    "%time arr = np.arange(1,1001)\n",
    "\n",
    "#task 6 (b)\n",
    "%time list = [i for i in range(1,100001)]\n",
    "%time arr = np.arange(1,100001)\n",
    "\n",
    "%time list = [i for i in range(1,1000001)]\n",
    "%time arr = np.arange(1,1000001)"
   ]
  }
 ],
 "metadata": {
  "kernelspec": {
   "display_name": "Python 3 (ipykernel)",
   "language": "python",
   "name": "python3"
  },
  "language_info": {
   "codemirror_mode": {
    "name": "ipython",
    "version": 3
   },
   "file_extension": ".py",
   "mimetype": "text/x-python",
   "name": "python",
   "nbconvert_exporter": "python",
   "pygments_lexer": "ipython3",
   "version": "3.9.7"
  }
 },
 "nbformat": 4,
 "nbformat_minor": 5
}
