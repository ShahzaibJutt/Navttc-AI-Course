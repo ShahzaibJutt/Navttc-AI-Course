{
 "cells": [
  {
   "cell_type": "code",
   "execution_count": null,
   "id": "2aaf8710",
   "metadata": {},
   "outputs": [],
   "source": [
    "# task 1\n",
    "for i in range(0,10):\n",
    "    num = int(input())\n",
    "    if i == 0:\n",
    "        minimum = num\n",
    "    elif num < minimum:\n",
    "        minimum = num\n",
    "print(\"The minimum number is \", minimum)"
   ]
  },
  {
   "cell_type": "code",
   "execution_count": 4,
   "id": "1fb9032b",
   "metadata": {},
   "outputs": [
    {
     "name": "stdout",
     "output_type": "stream",
     "text": [
      "Sum =  105\n"
     ]
    }
   ],
   "source": [
    "#task 2\n",
    "l = [1,2,3,4,5,6,7,77]\n",
    "total = 0\n",
    "for i in l:\n",
    "    total = total + i\n",
    "print(\"Sum = \", total)"
   ]
  },
  {
   "cell_type": "code",
   "execution_count": 7,
   "id": "fda63ca1",
   "metadata": {},
   "outputs": [
    {
     "name": "stdout",
     "output_type": "stream",
     "text": [
      "Muliply Sum =  5040\n"
     ]
    }
   ],
   "source": [
    "#task 3\n",
    "l = [1,2,3,4,5,6,7]\n",
    "total = 1\n",
    "for i in l:\n",
    "    total = total * i\n",
    "print(\"Muliply Sum = \", total)"
   ]
  },
  {
   "cell_type": "code",
   "execution_count": 10,
   "id": "65485aac",
   "metadata": {},
   "outputs": [
    {
     "name": "stdout",
     "output_type": "stream",
     "text": [
      "YES!\n"
     ]
    }
   ],
   "source": [
    "#task 4\n",
    "l1 = [1,2,3,4,5]\n",
    "l2 = [6,7,8,9,1]\n",
    "for i in l1:\n",
    "    for j in l2:\n",
    "        if i == j:\n",
    "            print(\"YES!\")"
   ]
  },
  {
   "cell_type": "code",
   "execution_count": 11,
   "id": "d1c64523",
   "metadata": {},
   "outputs": [
    {
     "name": "stdout",
     "output_type": "stream",
     "text": [
      "[1, 3, 5, 7, 9]\n"
     ]
    }
   ],
   "source": [
    "#task 5\n",
    "l = [1,2,3,4,5,6,7,8,9,10]\n",
    "for i in l:\n",
    "    if i%2 == 0:\n",
    "        l.remove(i)\n",
    "print(l)"
   ]
  },
  {
   "cell_type": "code",
   "execution_count": 25,
   "id": "2eb1c356",
   "metadata": {},
   "outputs": [
    {
     "name": "stdout",
     "output_type": "stream",
     "text": [
      "9\n"
     ]
    }
   ],
   "source": [
    "#task 6\n",
    "l = [1,2,3,4,5,6,7,8,9,10]\n",
    "max1 = l[0]\n",
    "max2 = l[0]\n",
    "for i in l:\n",
    "    if i > max1:\n",
    "        max1 = i\n",
    "for i in l:\n",
    "    if i > max2 and i != max1:\n",
    "        max2 = i\n",
    "print(max2)"
   ]
  },
  {
   "cell_type": "code",
   "execution_count": 26,
   "id": "80c70c22",
   "metadata": {},
   "outputs": [
    {
     "name": "stdout",
     "output_type": "stream",
     "text": [
      "[10, 20, 30, 40]\n"
     ]
    }
   ],
   "source": [
    "#task 7\n",
    "l = [10, 20, 10, 30, 40, 40]\n",
    "ul = []\n",
    "for i in l:\n",
    "    if i not in ul:\n",
    "        ul.append(i)\n",
    "print(ul)"
   ]
  },
  {
   "cell_type": "code",
   "execution_count": 27,
   "id": "a3361d40",
   "metadata": {},
   "outputs": [
    {
     "name": "stdout",
     "output_type": "stream",
     "text": [
      "[2, 4, 6, 8, 10] [1, 3, 5, 7, 9]\n"
     ]
    }
   ],
   "source": [
    "#task 8\n",
    "l = [1,2,3,4,5,6,7,8,9,10]\n",
    "el = []\n",
    "ol = []\n",
    "for i in l:\n",
    "    if i%2 == 0:\n",
    "        el.append(i)\n",
    "    else:\n",
    "        ol.append(i)\n",
    "print(el,ol)"
   ]
  }
 ],
 "metadata": {
  "kernelspec": {
   "display_name": "Python 3 (ipykernel)",
   "language": "python",
   "name": "python3"
  },
  "language_info": {
   "codemirror_mode": {
    "name": "ipython",
    "version": 3
   },
   "file_extension": ".py",
   "mimetype": "text/x-python",
   "name": "python",
   "nbconvert_exporter": "python",
   "pygments_lexer": "ipython3",
   "version": "3.9.7"
  }
 },
 "nbformat": 4,
 "nbformat_minor": 5
}
