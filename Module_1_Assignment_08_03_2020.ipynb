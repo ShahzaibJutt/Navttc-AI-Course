{
 "cells": [
  {
   "cell_type": "code",
   "execution_count": null,
   "id": "bb52c103",
   "metadata": {},
   "outputs": [],
   "source": [
    "#task1\n",
    "if species == \"cat\""
   ]
  },
  {
   "cell_type": "code",
   "execution_count": 4,
   "id": "025bd261",
   "metadata": {},
   "outputs": [
    {
     "name": "stdout",
     "output_type": "stream",
     "text": [
      "Enter a number: 4\n",
      "Enter a number: 5\n",
      "x is not equal to y.\n"
     ]
    }
   ],
   "source": [
    "#task 2\n",
    "x = input(\"Enter a number: \")\n",
    "y = input(\"Enter a number: \")\n",
    "if x == y:\n",
    "    print(\"x is equal to y.\")\n",
    "else:\n",
    "    print(\"x is not equal to y.\")"
   ]
  },
  {
   "cell_type": "code",
   "execution_count": 7,
   "id": "067d14dd",
   "metadata": {},
   "outputs": [
    {
     "name": "stdout",
     "output_type": "stream",
     "text": [
      "Enter a number: 5\n",
      "Enter a number: 5\n",
      "a is equal to b.\n"
     ]
    }
   ],
   "source": [
    "#task 3\n",
    "c = 5\n",
    "d = 10\n",
    "a = input(\"Enter a number: \")\n",
    "b = input(\"Enter a number: \")\n",
    "if a==b:\n",
    "    print(\"a is equal to b.\")\n",
    "else: \n",
    "    c=d"
   ]
  },
  {
   "cell_type": "code",
   "execution_count": 10,
   "id": "f0ed8597",
   "metadata": {},
   "outputs": [
    {
     "name": "stdout",
     "output_type": "stream",
     "text": [
      "Enter a Number: 100\n"
     ]
    }
   ],
   "source": [
    "#task 4\n",
    "total = input(\"Enter a Number: \")\n",
    "if total == 100:\n",
    "    tax = 2"
   ]
  },
  {
   "cell_type": "code",
   "execution_count": 16,
   "id": "213aea3f",
   "metadata": {},
   "outputs": [
    {
     "name": "stdout",
     "output_type": "stream",
     "text": [
      "Enter the first name: Sherlock\n"
     ]
    }
   ],
   "source": [
    "#task 5\n",
    "first_name = input('Enter the first name: ')\n",
    "if first_name == 'Sherlock':\n",
    "    last_name = 'Homles'\n",
    "    pal = 'Watson'"
   ]
  },
  {
   "cell_type": "code",
   "execution_count": 32,
   "id": "a8029ab6",
   "metadata": {},
   "outputs": [
    {
     "name": "stdout",
     "output_type": "stream",
     "text": [
      "Enter Yes/No\n",
      "no\n",
      "better luck next time.\n"
     ]
    }
   ],
   "source": [
    "#task 6\n",
    "ans = input(\"Enter Yes/No\\n\")\n",
    "if ans == \"yes\" or ans == \"Yes\":\n",
    "    print(\"congrats.\")\n",
    "else:\n",
    "    print(\"better luck next time.\")"
   ]
  },
  {
   "cell_type": "code",
   "execution_count": null,
   "id": "b739c9c0",
   "metadata": {},
   "outputs": [],
   "source": [
    "#task 7\n",
    "total = input(\"Enter a number: \")\n",
    "if total < 100:\n",
    "    pass"
   ]
  },
  {
   "cell_type": "code",
   "execution_count": 4,
   "id": "8365d96d",
   "metadata": {},
   "outputs": [
    {
     "name": "stdout",
     "output_type": "stream",
     "text": [
      "Enter the value: (1-1000)\n",
      "700\n",
      "Greater than 500.\n"
     ]
    }
   ],
   "source": [
    "#task 8\n",
    "value = input(\"Enter the value: (1-1000)\\n\")\n",
    "if int (value) > 500:\n",
    "    print('Greater than 500.')\n",
    "else: \n",
    "    print('Value is less than 500.')"
   ]
  },
  {
   "cell_type": "code",
   "execution_count": 7,
   "id": "e08f52b8",
   "metadata": {},
   "outputs": [
    {
     "name": "stdout",
     "output_type": "stream",
     "text": [
      "Enter a number: 1\n",
      "Enter a number: 6\n",
      "The difference is greater.\n"
     ]
    }
   ],
   "source": [
    "#task 9\n",
    "a = input(\"Enter a number: \")\n",
    "b = input(\"Enter a number: \")\n",
    "if (int(a)-int(b)) >= -7:\n",
    "    print(\"The difference is greater.\")"
   ]
  },
  {
   "cell_type": "code",
   "execution_count": 9,
   "id": "f7888225",
   "metadata": {},
   "outputs": [
    {
     "name": "stdout",
     "output_type": "stream",
     "text": [
      "6\n"
     ]
    }
   ],
   "source": [
    "#task 10\n",
    "a = input()\n",
    "if (int(a) < 99):\n",
    "    a = 99"
   ]
  },
  {
   "cell_type": "code",
   "execution_count": 10,
   "id": "98f473de",
   "metadata": {},
   "outputs": [
    {
     "name": "stdout",
     "output_type": "stream",
     "text": [
      "Enter a number: 6\n",
      "Enter a number: 6\n"
     ]
    }
   ],
   "source": [
    "a = input(\"Enter a number: \")\n",
    "b = input(\"Enter a number: \")\n",
    "if a > b:\n",
    "    b = a"
   ]
  }
 ],
 "metadata": {
  "kernelspec": {
   "display_name": "Python 3 (ipykernel)",
   "language": "python",
   "name": "python3"
  },
  "language_info": {
   "codemirror_mode": {
    "name": "ipython",
    "version": 3
   },
   "file_extension": ".py",
   "mimetype": "text/x-python",
   "name": "python",
   "nbconvert_exporter": "python",
   "pygments_lexer": "ipython3",
   "version": "3.9.7"
  }
 },
 "nbformat": 4,
 "nbformat_minor": 5
}
