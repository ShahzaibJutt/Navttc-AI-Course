{
 "cells": [
  {
   "cell_type": "code",
   "execution_count": 1,
   "id": "cc1bac3b",
   "metadata": {},
   "outputs": [
    {
     "name": "stdout",
     "output_type": "stream",
     "text": [
      "1\n",
      "2\n",
      "3\n",
      "4\n",
      "5\n",
      "6\n",
      "7\n",
      "9\n"
     ]
    }
   ],
   "source": [
    "#task 1\n",
    "for i in range(0,10):\n",
    "    if i == 0 or i == 8:\n",
    "        pass\n",
    "    else: \n",
    "        print(i)"
   ]
  },
  {
   "cell_type": "code",
   "execution_count": 4,
   "id": "8636be9a",
   "metadata": {},
   "outputs": [
    {
     "name": "stdout",
     "output_type": "stream",
     "text": [
      "7 * 1 = 7\n",
      "7 * 2 = 14\n",
      "7 * 3 = 21\n",
      "7 * 4 = 28\n",
      "7 * 5 = 35\n",
      "7 * 6 = 42\n",
      "7 * 7 = 49\n",
      "7 * 8 = 56\n",
      "7 * 9 = 63\n",
      "7 * 10 = 70\n"
     ]
    }
   ],
   "source": [
    "#task 2\n",
    "for i in range(1,11):\n",
    "    print('7 * {0} = {1}'.format(i, 7*i))"
   ]
  },
  {
   "cell_type": "code",
   "execution_count": 12,
   "id": "c6efcacd",
   "metadata": {},
   "outputs": [
    {
     "name": "stdout",
     "output_type": "stream",
     "text": [
      "Enter no of coloumns: 5\n",
      "\n",
      "*\n",
      "**\n",
      "***\n",
      "****\n",
      "****\n",
      "***\n",
      "**\n",
      "*\n",
      "\n"
     ]
    }
   ],
   "source": [
    "#task 3\n",
    "cols = int(input(\"Enter no of coloumns: \"))\n",
    "rows = 2*cols\n",
    "for i in range(rows+1):\n",
    "    if (i < cols):\n",
    "        print('*'*i)\n",
    "    if (i > cols):\n",
    "        print('*'*(rows - i))"
   ]
  },
  {
   "cell_type": "code",
   "execution_count": 15,
   "id": "e78b746d",
   "metadata": {},
   "outputs": [
    {
     "name": "stdout",
     "output_type": "stream",
     "text": [
      "10\n",
      "15\n",
      "20\n",
      "30\n",
      "40\n",
      "10\n",
      "14\n",
      "15\n",
      "20\n",
      "30\n",
      "The maximum number is  40\n"
     ]
    }
   ],
   "source": [
    "#task 4\n",
    "maximum = 0\n",
    "for i in range(0,10):\n",
    "    num = int(input())\n",
    "    if num > maximum:\n",
    "        maximum = num\n",
    "print(\"The maximum number is \", maximum)"
   ]
  },
  {
   "cell_type": "code",
   "execution_count": 16,
   "id": "f2b0cfd1",
   "metadata": {},
   "outputs": [
    {
     "name": "stdout",
     "output_type": "stream",
     "text": [
      "1\n",
      "2\n",
      "3\n",
      "4\n",
      "5\n",
      "6\n",
      "7\n",
      "9\n",
      "23\n",
      "2\n"
     ]
    }
   ],
   "source": [
    "#task 5\n",
    "total = 0;\n",
    "for i in range(0,10):\n",
    "    num = int(input())\n",
    "    total = total + num"
   ]
  }
 ],
 "metadata": {
  "kernelspec": {
   "display_name": "Python 3 (ipykernel)",
   "language": "python",
   "name": "python3"
  },
  "language_info": {
   "codemirror_mode": {
    "name": "ipython",
    "version": 3
   },
   "file_extension": ".py",
   "mimetype": "text/x-python",
   "name": "python",
   "nbconvert_exporter": "python",
   "pygments_lexer": "ipython3",
   "version": "3.9.7"
  }
 },
 "nbformat": 4,
 "nbformat_minor": 5
}
