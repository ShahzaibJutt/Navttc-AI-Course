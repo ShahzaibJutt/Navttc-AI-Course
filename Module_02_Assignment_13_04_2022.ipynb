{
 "cells": [
  {
   "cell_type": "code",
   "execution_count": 2,
   "id": "62806ae3",
   "metadata": {},
   "outputs": [],
   "source": [
    "#task 1\n",
    "import pandas as pd\n",
    "import numpy as np\n",
    "Orders = pd.read_excel(\"Sample_Superstore.xls\",sheet_name='Orders',index_col='Row ID')\n",
    "Orders.dropna(axis=0,inplace=True,how='all')\n",
    "Orders.dropna(axis=1,inplace=True,how='all')\n",
    "Orders = Orders.iloc[:,:20]\n",
    "Orders[['Profit']] = Orders[['Profit']].apply(pd.to_numeric, errors='coerce')"
   ]
  },
  {
   "cell_type": "code",
   "execution_count": 3,
   "id": "0ee25599",
   "metadata": {},
   "outputs": [
    {
     "name": "stdout",
     "output_type": "stream",
     "text": [
      "Order Date    2016-10-02 00:00:00\n",
      "Profit                   8399.976\n",
      "Name: 6827.0, dtype: object\n"
     ]
    },
    {
     "data": {
      "text/plain": [
       "1395"
      ]
     },
     "execution_count": 3,
     "metadata": {},
     "output_type": "execute_result"
    }
   ],
   "source": [
    "#task 2\n",
    "print(Orders[['Order Date','Profit']].loc[Orders['Profit'].idxmax()])\n",
    "Orders.isna().sum().sum()"
   ]
  },
  {
   "cell_type": "code",
   "execution_count": 191,
   "id": "5d4896ad",
   "metadata": {},
   "outputs": [
    {
     "data": {
      "text/plain": [
       "State\n",
       "Alabama                  308.574844\n",
       "Arizona                  151.143224\n",
       "Arkansas                 221.123710\n",
       "California               231.220057\n",
       "Colorado                 168.818168\n",
       "Connecticut              160.225943\n",
       "Delaware                 256.919418\n",
       "District of Columbia      27.832857\n",
       "Florida                  222.605841\n",
       "Georgia                  257.549550\n",
       "Idaho                    210.268667\n",
       "Illinois                 159.018820\n",
       "Indiana                  343.774651\n",
       "Iowa                     133.825429\n",
       "Kansas                   121.429583\n",
       "Kentucky                 279.690000\n",
       "Louisiana                232.291915\n",
       "Maine                    171.604545\n",
       "Maryland                 213.927219\n",
       "Massachusetts            215.781369\n",
       "Michigan                 310.400550\n",
       "Minnesota                327.102737\n",
       "Mississippi              199.539273\n",
       "Missouri                 398.180533\n",
       "Montana                  372.623467\n",
       "Nebraska                 192.800976\n",
       "Nevada                   401.319826\n",
       "New Hampshire            263.350483\n",
       "New Jersey               251.269169\n",
       "New Mexico               120.023561\n",
       "New York                 285.591868\n",
       "North Carolina           227.001500\n",
       "North Dakota             131.415714\n",
       "Ohio                     162.341695\n",
       "Oklahoma                 310.660000\n",
       "Oregon                   144.847500\n",
       "Pennsylvania             200.413271\n",
       "Rhode Island             386.232983\n",
       "South Carolina           201.945476\n",
       "South Dakota             109.630000\n",
       "Tennessee                174.095042\n",
       "Texas                    174.357128\n",
       "Utah                     203.244929\n",
       "Vermont                  846.925500\n",
       "Virginia                 289.636743\n",
       "Washington               266.461544\n",
       "West Virginia            376.633600\n",
       "Wisconsin                284.248231\n",
       "Wyoming                 1603.136000\n",
       "Name: Sales, dtype: float64"
      ]
     },
     "execution_count": 191,
     "metadata": {},
     "output_type": "execute_result"
    }
   ],
   "source": [
    "#task 3\n",
    "Orders.groupby(by = 'State')['Sales'].mean()"
   ]
  },
  {
   "cell_type": "code",
   "execution_count": 177,
   "id": "c9441ec4",
   "metadata": {},
   "outputs": [
    {
     "name": "stdout",
     "output_type": "stream",
     "text": [
      "Order Date       2016-11-25 00:00:00\n",
      "Customer Name          Cindy Stewart\n",
      "Customer ID                 CS-12505\n",
      "Profit                     -6599.978\n",
      "Name: 7773.0, dtype: object\n"
     ]
    }
   ],
   "source": [
    "#task 4\n",
    "print(Orders[['Order Date','Customer Name','Customer ID','Profit']].loc[Orders['Profit'].idxmin()])"
   ]
  },
  {
   "cell_type": "code",
   "execution_count": 182,
   "id": "1a23eb0b",
   "metadata": {},
   "outputs": [
    {
     "data": {
      "text/plain": [
       "'Standard Class'"
      ]
     },
     "execution_count": 182,
     "metadata": {},
     "output_type": "execute_result"
    }
   ],
   "source": [
    "#task 5\n",
    "Orders['Ship Mode'].max()"
   ]
  },
  {
   "cell_type": "code",
   "execution_count": 189,
   "id": "0e3d4c5e",
   "metadata": {},
   "outputs": [
    {
     "data": {
      "text/plain": [
       "'John Murray'"
      ]
     },
     "execution_count": 189,
     "metadata": {},
     "output_type": "execute_result"
    }
   ],
   "source": [
    "#task 6\n",
    "States = Orders.groupby(by = ['State'])['Profit']\n",
    "max_index = States.get_group('Arizona').idxmax()\n",
    "Orders['Customer Name'].loc[max_index]"
   ]
  },
  {
   "cell_type": "code",
   "execution_count": 204,
   "id": "8e4da3d2",
   "metadata": {},
   "outputs": [
    {
     "data": {
      "text/plain": [
       "'Indiana'"
      ]
     },
     "execution_count": 204,
     "metadata": {},
     "output_type": "execute_result"
    }
   ],
   "source": [
    "#task 7\n",
    "Orders.groupby(by = ['State'])['Profit'].max().idxmax()"
   ]
  },
  {
   "cell_type": "code",
   "execution_count": 207,
   "id": "c0329a0f",
   "metadata": {},
   "outputs": [
    {
     "data": {
      "text/plain": [
       "'Technology'"
      ]
     },
     "execution_count": 207,
     "metadata": {},
     "output_type": "execute_result"
    }
   ],
   "source": [
    "Orders.groupby(by = ['Category'])['Sales'].max().idxmax()"
   ]
  }
 ],
 "metadata": {
  "kernelspec": {
   "display_name": "Python 3 (ipykernel)",
   "language": "python",
   "name": "python3"
  },
  "language_info": {
   "codemirror_mode": {
    "name": "ipython",
    "version": 3
   },
   "file_extension": ".py",
   "mimetype": "text/x-python",
   "name": "python",
   "nbconvert_exporter": "python",
   "pygments_lexer": "ipython3",
   "version": "3.9.7"
  }
 },
 "nbformat": 4,
 "nbformat_minor": 5
}
