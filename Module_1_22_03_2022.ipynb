{
 "cells": [
  {
   "cell_type": "code",
   "execution_count": 1,
   "id": "272f457b",
   "metadata": {},
   "outputs": [
    {
     "name": "stdout",
     "output_type": "stream",
     "text": [
      "10\n",
      "1\n",
      "2\n",
      "I Love Programming\n",
      "4\n",
      "Python\n",
      "I Love Programming\n",
      "7\n",
      "8\n",
      "I Love Programming\n"
     ]
    }
   ],
   "source": [
    "n = int(input())\n",
    "for j in range(1,n):\n",
    "    if j%3 == 0 and j%5 == 0:\n",
    "        print('Pakistan Zindabad')\n",
    "    if j%3 == 0 and j%5 != 0:\n",
    "        print('I Love Programming')\n",
    "    if j%5 == 0 and j%3 != 0:\n",
    "        print('Python')\n",
    "    if j%5 != 0 and j%3 != 0:\n",
    "        print(j)"
   ]
  }
 ],
 "metadata": {
  "kernelspec": {
   "display_name": "Python 3 (ipykernel)",
   "language": "python",
   "name": "python3"
  },
  "language_info": {
   "codemirror_mode": {
    "name": "ipython",
    "version": 3
   },
   "file_extension": ".py",
   "mimetype": "text/x-python",
   "name": "python",
   "nbconvert_exporter": "python",
   "pygments_lexer": "ipython3",
   "version": "3.9.7"
  }
 },
 "nbformat": 4,
 "nbformat_minor": 5
}
