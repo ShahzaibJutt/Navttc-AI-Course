{
 "cells": [
  {
   "cell_type": "code",
   "execution_count": null,
   "id": "7ca8d9b0",
   "metadata": {},
   "outputs": [],
   "source": [
    "#Question 1\n",
    "try:\n",
    "    a=int(input())\n",
    "    b=int(input())\n",
    "except:\n",
    "    print(\"you have enter invalid input\")\n",
    "    quit()\n",
    "else:\n",
    "    total = a + b\n",
    "    print(total)\n"
   ]
  },
  {
   "cell_type": "code",
   "execution_count": null,
   "id": "978abda4",
   "metadata": {},
   "outputs": [],
   "source": [
    "#Question 2\n",
    "try:\n",
    "    number = int(input(\"Enter the number: \"))\n",
    "    exp = int(input(\"Enter its power: \"))\n",
    "except:\n",
    "    print(\"Plz enter valid integar input\")\n",
    "else:\n",
    "    print(pow(number,exp))\n",
    "    print('Operation is successful')"
   ]
  },
  {
   "cell_type": "code",
   "execution_count": null,
   "id": "6d879fb2",
   "metadata": {},
   "outputs": [],
   "source": [
    "#Question 3\n",
    "try:\n",
    "    number = int(input(\"Enter the number: \"))\n",
    "    exp = int(input(\"Enter its power: \"))\n",
    "except:\n",
    "    print(\"Plz enter valid integar input\")\n",
    "finally:\n",
    "    #print(pow(number,exp))\n",
    "    print('Operation is successful')"
   ]
  },
  {
   "cell_type": "code",
   "execution_count": null,
   "id": "91a3e514",
   "metadata": {},
   "outputs": [],
   "source": [
    "#Question 4\n",
    "def foo(arg):\n",
    "    try:\n",
    "        if (arg < 5):\n",
    "            raise ValueError(\"Number is less than 5\")\n",
    "    except ValueError as ve:\n",
    "        print(ve)\n",
    "try:        \n",
    "    foo()\n",
    "except TypeError:\n",
    "        print(\"Input Not Passed\")"
   ]
  },
  {
   "cell_type": "code",
   "execution_count": 37,
   "id": "6a428e8a",
   "metadata": {},
   "outputs": [
    {
     "name": "stdout",
     "output_type": "stream",
     "text": [
      "[[[8 3 5]\n",
      "  [6 1 4]\n",
      "  [6 5 4]\n",
      "  [4 8 6]]\n",
      "\n",
      " [[8 2 3]\n",
      "  [4 5 5]\n",
      "  [8 4 6]\n",
      "  [7 2 5]]\n",
      "\n",
      " [[4 1 5]\n",
      "  [1 1 5]\n",
      "  [6 2 1]\n",
      "  [8 8 7]]]\n"
     ]
    }
   ],
   "source": [
    "#task 1\n",
    "import numpy as np\n",
    "arr = np.random.randint(1,9,(5,3,7,4,3))\n",
    "\n",
    "\n",
    "# print(arr)\n",
    "\n",
    "#l1 =arr[0][2:5][0][3:6]\n",
    "print(arr[0][2:5][0][3:6])\n",
    "#print(l1)"
   ]
  },
  {
   "cell_type": "code",
   "execution_count": 21,
   "id": "7439bd5a",
   "metadata": {},
   "outputs": [
    {
     "name": "stdout",
     "output_type": "stream",
     "text": [
      "[ 5 12 21 32]\n",
      "[-4 -4 -4 -4]\n",
      "[5.         3.         2.33333333 2.        ]\n",
      "[ 6  8 10 12]\n",
      "[5 3 2 2]\n"
     ]
    }
   ],
   "source": [
    "#task 1\n",
    "import numpy as np\n",
    "a = np.array([1,2,3,4])\n",
    "b = np.array([5,6,7,8])\n",
    "print(a*b)\n",
    "print(a-b)\n",
    "print(b/a)\n",
    "print(a+b)\n",
    "print(b//a)"
   ]
  },
  {
   "cell_type": "code",
   "execution_count": 39,
   "id": "344950d3",
   "metadata": {},
   "outputs": [
    {
     "name": "stdout",
     "output_type": "stream",
     "text": [
      "[1 2 3 4] [1 2 3 4]\n",
      "[[[0. 0. 0.]\n",
      "  [0. 0. 0.]]\n",
      "\n",
      " [[0. 0. 0.]\n",
      "  [0. 0. 0.]]]\n",
      "[[1. 1.]\n",
      " [1. 1.]\n",
      " [1. 1.]]\n",
      "[[0.00e+000 0.00e+000]\n",
      " [0.00e+000 0.00e+000]\n",
      " [0.00e+000 4.96e-321]\n",
      " [0.00e+000 0.00e+000]]\n",
      "[[10 10]\n",
      " [10 10]\n",
      " [10 10]]\n",
      "[[1. 0. 0.]\n",
      " [0. 1. 0.]\n",
      " [0. 0. 1.]]\n",
      "[ 0.          3.33333333  6.66666667 10.        ]\n"
     ]
    }
   ],
   "source": [
    "#task 2\n",
    "a = np.array([1,2,3,4])\n",
    "b = np.arange(1,5)\n",
    "c = np.zeros((2,2,3))\n",
    "d = np.ones((3,2))\n",
    "e = np.empty([4,2])\n",
    "f = np.full([3,2],10)\n",
    "j = np.eye(3,3)\n",
    "k = np.linspace(0, 10, num=4)\n",
    "print(a,b)\n",
    "print(c)\n",
    "print(d)\n",
    "print(e)\n",
    "print(f)\n",
    "print(j)\n",
    "print(k)"
   ]
  },
  {
   "cell_type": "code",
   "execution_count": 67,
   "id": "6a8bbc05",
   "metadata": {},
   "outputs": [
    {
     "name": "stdout",
     "output_type": "stream",
     "text": [
      "[[16 17 18]]\n",
      "[[1 2 3]\n",
      " [4 5 6]]\n"
     ]
    }
   ],
   "source": [
    "#task 3\n",
    "arr = np.arange(1,19)\n",
    "arr = np.reshape(arr,[2,3,3])\n",
    "print(arr[1,[2]])\n",
    "print(arr[0][0:2])"
   ]
  },
  {
   "cell_type": "code",
   "execution_count": 109,
   "id": "c99d466a",
   "metadata": {},
   "outputs": [
    {
     "name": "stdout",
     "output_type": "stream",
     "text": [
      "44\n",
      "44.0\n",
      "4.898979485566356\n",
      "2.718281828459045\n",
      "44\n",
      "4.59511985013459\n",
      "1.99563519459755\n",
      "6.6293566200796095\n",
      "4.605170185988092\n",
      "5.0\n",
      "4.0\n",
      "5.0\n",
      "(array([0.2 , 0.44, 0.44, 0.33]), array([ 1.,  3.,  4., 12.]))\n",
      "[False False False  True]\n",
      "True\n",
      "inf\n",
      "-0.9524129804151563\n",
      "5.710036949078421e+25\n",
      "-0.3048106211022167\n",
      "5.710036949078421e+25\n",
      "-1.995200412208242\n",
      "1.0\n",
      "4.787422291102689\n",
      "4.78756117999381\n",
      "1.5596856728972892\n",
      "[ True False False False]\n"
     ]
    }
   ],
   "source": [
    "#task 4\n",
    "print(np.abs(-44))\n",
    "print(np.fabs(-44))\n",
    "print(np.sqrt(24))\n",
    "print(np.exp(1))\n",
    "print(np.abs(-44))\n",
    "print(np.log(99))\n",
    "print(np.log10(99))\n",
    "print(np.log2(99))\n",
    "print(np.log1p(99))\n",
    "print(np.ceil(4.4))\n",
    "print(np.floor(4.4))\n",
    "print(np.rint(4.9))\n",
    "print(np.modf([1.2,3.44,4.44,12.33]))\n",
    "print(np.isnan([1,2,3,np.nan]))\n",
    "print(np.isfinite(1))\n",
    "print(np.inf)\n",
    "print(np.cos(60))\n",
    "print(np.cosh(60))\n",
    "print(np.sin(60))\n",
    "print(np.sinh(60))\n",
    "print(np.tan(90))\n",
    "print(np.tanh(90))\n",
    "#print(np.arccos(10))\n",
    "print(np.arccosh(60))\n",
    "#print(np.arcsin(10))\n",
    "print(np.arcsinh(60))\n",
    "print(np.arctan(90))\n",
    "#print(np.arctanh(20))\n",
    "print(np.logical_not([0,2,3,4]))\n",
    "\n"
   ]
  },
  {
   "cell_type": "code",
   "execution_count": 124,
   "id": "b099e0b9",
   "metadata": {},
   "outputs": [
    {
     "name": "stdout",
     "output_type": "stream",
     "text": [
      "[ 6  8 10 12]\n",
      "[-4 -4 -4 -4]\n",
      "[ 5 12 21 32]\n",
      "[0.2        0.33333333 0.42857143 0.5       ]\n",
      "[5 3 2 2]\n",
      "[   5   36  343 4096]\n",
      "[5 6 7 8]\n",
      "[1 2 0 3]\n",
      "[0 1 1 3]\n"
     ]
    }
   ],
   "source": [
    "#task 5\n",
    "print(np.add([1,2,3,4],[5,6,7,8]))\n",
    "print(np.subtract([1,2,3,4],[5,6,7,8]))\n",
    "print(np.multiply([1,2,3,4],[5,6,7,8]))\n",
    "print(np.divide([1,2,3,4],[5,6,7,8]))\n",
    "print(np.floor_divide([5,6,7,8],[1,2,3,4]))\n",
    "print(np.power([5,6,7,8],[1,2,3,4]))\n",
    "print(np.fmax([5,6,7,8],[1,2,3,4]))\n",
    "print(np.fmin([5,6,0,3],[1,2,3,4]))\n",
    "print(np.mod([10,29,10,19],[1,2,3,4]))"
   ]
  },
  {
   "cell_type": "code",
   "execution_count": 133,
   "id": "42b3a7f6",
   "metadata": {},
   "outputs": [
    {
     "name": "stdout",
     "output_type": "stream",
     "text": [
      "40\n",
      "5.0\n",
      "2.0615528128088303\n",
      "4.25\n",
      "1\n",
      "7\n",
      "0\n",
      "1\n",
      "[ 1  8 15 20 26 29 36 40]\n",
      "[     1      7     49    245   1470   4410  30870 123480]\n"
     ]
    }
   ],
   "source": [
    "#task 6\n",
    "arr = np.random.randint(1,10,(2,4))\n",
    "print(np.sum(arr))\n",
    "print(np.mean(arr))\n",
    "print(np.std(arr))\n",
    "print(np.var(arr))\n",
    "print(np.min(arr))\n",
    "print(np.max(arr))\n",
    "print(np.argmin(arr))\n",
    "print(np.argmax(arr))\n",
    "print(np.cumsum(arr))\n",
    "print(np.cumprod(arr))"
   ]
  },
  {
   "cell_type": "code",
   "execution_count": 9,
   "id": "2546848d",
   "metadata": {},
   "outputs": [
    {
     "name": "stdout",
     "output_type": "stream",
     "text": [
      "[2 3 4 5 6 9]\n",
      "[2 3 4]\n",
      "[1 2 3 4 5]\n",
      "[ True False False]\n",
      "[1]\n",
      "[2 3 4 7 8]\n"
     ]
    }
   ],
   "source": [
    "#task 7\n",
    "import numpy as np\n",
    "arr = np.random.randint(1,10,(2,4))\n",
    "print(np.unique(arr))\n",
    "print(np.intersect1d([1,2,3,4],[2,3,4]))\n",
    "print(np.union1d([1,2,3,4],[3,4,5]))\n",
    "print(np.in1d([1,2,34],[3,4,5,1]))\n",
    "print(np.setdiff1d([1,2,3,4],[2,3,4]))\n",
    "print(np.setxor1d([1,5,7,8],[1,2,3,4,5]))"
   ]
  }
 ],
 "metadata": {
  "kernelspec": {
   "display_name": "Python 3 (ipykernel)",
   "language": "python",
   "name": "python3"
  },
  "language_info": {
   "codemirror_mode": {
    "name": "ipython",
    "version": 3
   },
   "file_extension": ".py",
   "mimetype": "text/x-python",
   "name": "python",
   "nbconvert_exporter": "python",
   "pygments_lexer": "ipython3",
   "version": "3.9.7"
  }
 },
 "nbformat": 4,
 "nbformat_minor": 5
}
