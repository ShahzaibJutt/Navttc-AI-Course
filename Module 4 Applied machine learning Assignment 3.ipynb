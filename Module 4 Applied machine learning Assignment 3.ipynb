{
 "cells": [
  {
   "cell_type": "code",
   "execution_count": 10,
   "id": "dc880bfd",
   "metadata": {},
   "outputs": [],
   "source": [
    "import pandas as pd\n",
    "import numpy as np\n",
    "data = pd.read_excel('dataset traffic.xlsx')"
   ]
  },
  {
   "cell_type": "code",
   "execution_count": 11,
   "id": "455464d1",
   "metadata": {},
   "outputs": [],
   "source": [
    "data = data.drop(['company towers name', 'no. of customers', 'Area'], axis = 1)"
   ]
  },
  {
   "cell_type": "code",
   "execution_count": 12,
   "id": "fc530008",
   "metadata": {},
   "outputs": [],
   "source": [
    "X = data.iloc[:,0:3]\n",
    "Y = np.c_[data.iloc[:,3]]"
   ]
  },
  {
   "cell_type": "code",
   "execution_count": 13,
   "id": "9c7c1cf5",
   "metadata": {},
   "outputs": [],
   "source": [
    "import sklearn.preprocessing as svm\n",
    "from sklearn.compose import make_column_transformer\n",
    "encoder = svm.StandardScaler()\n",
    "y_scaler = svm.StandardScaler()\n",
    "#transformer = make_column_transformer((encoder, ['Pre Data traffic in GB','POST Data Traffic']))"
   ]
  },
  {
   "cell_type": "code",
   "execution_count": 64,
   "id": "92c6e42f",
   "metadata": {},
   "outputs": [],
   "source": [
    "# X.rename(columns = {'PRE no. of drops':'pre drops'},inplace=True)\n",
    "# X.head()"
   ]
  },
  {
   "cell_type": "code",
   "execution_count": 14,
   "id": "e588452b",
   "metadata": {},
   "outputs": [],
   "source": [
    "processedX = encoder.fit_transform(X)\n",
    "processedY = y_scaler.fit_transform(Y)"
   ]
  },
  {
   "cell_type": "code",
   "execution_count": 15,
   "id": "9eb78154",
   "metadata": {},
   "outputs": [],
   "source": [
    "from sklearn.model_selection import train_test_split\n",
    "train_x, test_x, train_y, test_y = train_test_split(processedX, processedY)"
   ]
  },
  {
   "cell_type": "code",
   "execution_count": 16,
   "id": "a7904aa9",
   "metadata": {},
   "outputs": [
    {
     "data": {
      "text/plain": [
       "LinearRegression()"
      ]
     },
     "execution_count": 16,
     "metadata": {},
     "output_type": "execute_result"
    },
    {
     "name": "stdout",
     "output_type": "stream",
     "text": [
      "0.08571541899855316\n"
     ]
    }
   ],
   "source": [
    "from sklearn.linear_model import LinearRegression\n",
    "\n",
    "regr = LinearRegression()\n",
    "regr.fit(train_x, train_y)\n",
    "pred_y = regr.predict(test_x)\n",
    "print(sm.mean_squared_error(test_y, pred_y))"
   ]
  },
  {
   "cell_type": "code",
   "execution_count": 17,
   "id": "46b056b9",
   "metadata": {},
   "outputs": [],
   "source": [
    "pred_data = pd.read_excel('all towers data.xlsx')"
   ]
  },
  {
   "cell_type": "code",
   "execution_count": 20,
   "id": "03e0088b",
   "metadata": {},
   "outputs": [],
   "source": [
    "X = pred_data.iloc[:,1:3]\n",
    "X['Post Data Traffic'] = 0\n",
    "testdata = encoder.fit_transform(X)\n",
    "pred_traffic = regr.predict(X)"
   ]
  },
  {
   "cell_type": "code",
   "execution_count": 26,
   "id": "3b39c6b3",
   "metadata": {},
   "outputs": [
    {
     "data": {
      "text/plain": [
       "array([[ 583.96531781],\n",
       "       [1337.03117351],\n",
       "       [1238.79492666],\n",
       "       ...,\n",
       "       [ 664.52340228],\n",
       "       [ 738.61315344],\n",
       "       [ 336.48341747]])"
      ]
     },
     "execution_count": 26,
     "metadata": {},
     "output_type": "execute_result"
    }
   ],
   "source": [
    "pred_traffic"
   ]
  },
  {
   "cell_type": "code",
   "execution_count": 24,
   "id": "96abd942",
   "metadata": {},
   "outputs": [
    {
     "ename": "NameError",
     "evalue": "name 'inctraffic' is not defined",
     "output_type": "error",
     "traceback": [
      "\u001b[1;31m---------------------------------------------------------------------------\u001b[0m",
      "\u001b[1;31mNameError\u001b[0m                                 Traceback (most recent call last)",
      "\u001b[1;32mC:\\Users\\HURAIR~1\\AppData\\Local\\Temp/ipykernel_6720/1562091121.py\u001b[0m in \u001b[0;36m<module>\u001b[1;34m\u001b[0m\n\u001b[1;32m----> 1\u001b[1;33m \u001b[0minctraffic\u001b[0m\u001b[1;33m.\u001b[0m\u001b[0msum\u001b[0m\u001b[1;33m(\u001b[0m\u001b[1;33m)\u001b[0m\u001b[1;33m\u001b[0m\u001b[1;33m\u001b[0m\u001b[0m\n\u001b[0m",
      "\u001b[1;31mNameError\u001b[0m: name 'inctraffic' is not defined"
     ]
    }
   ],
   "source": [
    "inctraffic.sum()"
   ]
  },
  {
   "cell_type": "code",
   "execution_count": 25,
   "id": "36624133",
   "metadata": {},
   "outputs": [
    {
     "data": {
      "text/plain": [
       "878497.7601904762"
      ]
     },
     "execution_count": 25,
     "metadata": {},
     "output_type": "execute_result"
    }
   ],
   "source": [
    "X['PRE Trafic AVG'].sum()"
   ]
  },
  {
   "cell_type": "code",
   "execution_count": null,
   "id": "44e4ca3d",
   "metadata": {},
   "outputs": [],
   "source": [
    "from matplotlib.pyplot as "
   ]
  }
 ],
 "metadata": {
  "kernelspec": {
   "display_name": "Python 3 (ipykernel)",
   "language": "python",
   "name": "python3"
  },
  "language_info": {
   "codemirror_mode": {
    "name": "ipython",
    "version": 3
   },
   "file_extension": ".py",
   "mimetype": "text/x-python",
   "name": "python",
   "nbconvert_exporter": "python",
   "pygments_lexer": "ipython3",
   "version": "3.9.7"
  }
 },
 "nbformat": 4,
 "nbformat_minor": 5
}
