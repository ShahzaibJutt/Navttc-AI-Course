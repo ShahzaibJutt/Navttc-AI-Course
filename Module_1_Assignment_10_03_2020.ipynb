{
 "cells": [
  {
   "cell_type": "code",
   "execution_count": null,
   "id": "ac757206",
   "metadata": {},
   "outputs": [],
   "source": [
    "#task 1\n",
    "a = int(input())\n",
    "b = int(input())\n",
    "if a > b:\n",
    "    print('a is greater than b.')\n",
    "else:\n",
    "    print('b is greater than a.')"
   ]
  },
  {
   "cell_type": "code",
   "execution_count": null,
   "id": "e6d86f75",
   "metadata": {},
   "outputs": [],
   "source": [
    "#task 2\n",
    "a = int(input())\n",
    "b = int(input())\n",
    "c = int(input())\n",
    "if a > b and a > c:\n",
    "    print('a is maximum')\n",
    "elif b > c and b > a:\n",
    "    print('b is maximum')\n",
    "else:\n",
    "    print('c is maximum')"
   ]
  },
  {
   "cell_type": "code",
   "execution_count": null,
   "id": "8cef285b",
   "metadata": {},
   "outputs": [],
   "source": [
    "#task 3\n",
    "num = int(input())\n",
    "if num < 0:\n",
    "    print('number is negative.')\n",
    "elif num > 0:\n",
    "    print('number is positive.')\n",
    "elif num == 0:\n",
    "    print('number is equal to 0.')\n",
    "    "
   ]
  },
  {
   "cell_type": "code",
   "execution_count": null,
   "id": "00a7567e",
   "metadata": {},
   "outputs": [],
   "source": [
    "#task 4\n",
    "num = int(input())\n",
    "if num%5 == 0 and num%11 == 0:\n",
    "    print('Number is divisible by 5 and 11.')\n",
    "else:\n",
    "    print('Number is not divisible.')"
   ]
  },
  {
   "cell_type": "code",
   "execution_count": null,
   "id": "6af63432",
   "metadata": {},
   "outputs": [],
   "source": [
    "#task 5\n",
    "num = int(input())\n",
    "if num % 2 == 0:\n",
    "    print('Number is even.')\n",
    "else:\n",
    "    print('Number is odd.')"
   ]
  },
  {
   "cell_type": "code",
   "execution_count": null,
   "id": "425857db",
   "metadata": {},
   "outputs": [],
   "source": [
    "#task 6\n",
    "char = input()\n",
    "if char == 'a' or 'e' or 'i' or 'o' or 'u':\n",
    "    print('Vowel.')\n",
    "else:\n",
    "    print('Not a vowel.')"
   ]
  },
  {
   "cell_type": "code",
   "execution_count": null,
   "id": "de54cbda",
   "metadata": {},
   "outputs": [],
   "source": [
    "#task 7\n",
    "days = int(input())\n",
    "week = days/7\n",
    "print(int(week))"
   ]
  },
  {
   "cell_type": "code",
   "execution_count": null,
   "id": "cf82375a",
   "metadata": {},
   "outputs": [],
   "source": [
    "#task 8\n",
    "MONTHS = [31, 28, 31, 30, 31, 30, 31, 31, 30, 31, 30, 31]\n",
    "month = int(input())\n",
    "print('The number of days in month %i is %i'%(month, MONTHS[month-1]))"
   ]
  },
  {
   "cell_type": "code",
   "execution_count": null,
   "id": "04b3c76b",
   "metadata": {},
   "outputs": [],
   "source": [
    "#task 9\n",
    "weekDays = ['Monday', 'Tuesday', 'Wednesday', 'Thursday', 'Friday', 'Saturday', 'Sunday']\n",
    "day = int(input())\n",
    "print(weekDays[day-1])"
   ]
  },
  {
   "cell_type": "code",
   "execution_count": 6,
   "id": "7eea5392",
   "metadata": {},
   "outputs": [
    {
     "name": "stdout",
     "output_type": "stream",
     "text": [
      "Enter marks of Physics100\n",
      "Marks =  100\n",
      "Percentage =  100\n",
      "Grade =  A\n",
      "Enter marks of Chemistry90\n",
      "Marks =  90\n",
      "Percentage =  90\n",
      "Grade =  A\n",
      "Enter marks of Biology40\n",
      "Marks =  40\n",
      "Percentage =  40\n",
      "Grade =  E\n",
      "Enter marks of Mathematics10\n",
      "Marks =  10\n",
      "Percentage =  10\n",
      "Grade =  F\n",
      "Enter marks of Computer2\n",
      "Marks =  2\n",
      "Percentage =  2\n",
      "Grade =  F\n"
     ]
    }
   ],
   "source": [
    "#task 10\n",
    "Subjects = ['Physics', 'Chemistry', 'Biology', 'Mathematics' ,'Computer']\n",
    "marks = []\n",
    "for i in Subjects:\n",
    "    mark = int(input('Enter marks of ' + i))\n",
    "    print('Marks = ', mark)\n",
    "    print('Percentage = ', mark)\n",
    "    if mark >= 90: \n",
    "        grade = 'A'\n",
    "    elif mark >= 80: \n",
    "        grade = 'B'\n",
    "    elif mark >= 70: \n",
    "        grade = 'C'\n",
    "    elif mark >= 60: \n",
    "        grade = 'D'\n",
    "    elif mark >= 40:\n",
    "        grade = 'E'\n",
    "    elif mark < 40:\n",
    "        grade = 'F'\n",
    "    print('Grade = ', grade)"
   ]
  },
  {
   "cell_type": "code",
   "execution_count": 12,
   "id": "83c197c2",
   "metadata": {},
   "outputs": [
    {
     "name": "stdout",
     "output_type": "stream",
     "text": [
      "150\n",
      "The bill is  120.0\n"
     ]
    }
   ],
   "source": [
    "#task 11\n",
    "units = int(input())\n",
    "if units<=50:\n",
    "    bill = 0.50*units\n",
    "elif units <= 150:\n",
    "    bill = (0.50*50) + (units-50) * 0.75\n",
    "elif units <= 250:\n",
    "    bill = (0.50*50) + (100*0.75) + (units-150) * 1.20\n",
    "elif units > 250:\n",
    "    bill = (0.50*50) + (100*0.75) + (100*1.20) + (units-250) * 1.50\n",
    "bill = bill*1.2\n",
    "print('The bill is ', bill)"
   ]
  }
 ],
 "metadata": {
  "kernelspec": {
   "display_name": "Python 3 (ipykernel)",
   "language": "python",
   "name": "python3"
  },
  "language_info": {
   "codemirror_mode": {
    "name": "ipython",
    "version": 3
   },
   "file_extension": ".py",
   "mimetype": "text/x-python",
   "name": "python",
   "nbconvert_exporter": "python",
   "pygments_lexer": "ipython3",
   "version": "3.9.7"
  }
 },
 "nbformat": 4,
 "nbformat_minor": 5
}
