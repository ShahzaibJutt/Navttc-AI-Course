{
 "cells": [
  {
   "cell_type": "code",
   "execution_count": 1,
   "id": "7cfe8b77",
   "metadata": {},
   "outputs": [
    {
     "name": "stdout",
     "output_type": "stream",
     "text": [
      "Wall time: 0 ns\n"
     ]
    }
   ],
   "source": [
    "l = list(range(1,100))\n",
    "%time l2 = [x*2 for x in l]"
   ]
  },
  {
   "cell_type": "code",
   "execution_count": 3,
   "id": "18d2fa7f",
   "metadata": {},
   "outputs": [
    {
     "name": "stdout",
     "output_type": "stream",
     "text": [
      "Wall time: 7.76 ms\n"
     ]
    }
   ],
   "source": [
    "import numpy as np\n",
    "a = np.arange(1,1000000)\n",
    "%time a = a*2"
   ]
  },
  {
   "cell_type": "code",
   "execution_count": 10,
   "id": "2fa43540",
   "metadata": {},
   "outputs": [
    {
     "name": "stdout",
     "output_type": "stream",
     "text": [
      "[[0. 0.]\n",
      " [0. 0.]]\n"
     ]
    }
   ],
   "source": [
    "arr = np.zeros((2,2))\n",
    "print(arr)"
   ]
  },
  {
   "cell_type": "code",
   "execution_count": 11,
   "id": "a9a6fb8e",
   "metadata": {},
   "outputs": [
    {
     "name": "stdout",
     "output_type": "stream",
     "text": [
      "[[[1. 1.]\n",
      "  [1. 1.]]\n",
      "\n",
      " [[1. 1.]\n",
      "  [1. 1.]]]\n"
     ]
    }
   ],
   "source": [
    "arr = np.ones([2,2,2])\n",
    "print(arr)"
   ]
  },
  {
   "cell_type": "code",
   "execution_count": 17,
   "id": "96faf348",
   "metadata": {},
   "outputs": [
    {
     "name": "stdout",
     "output_type": "stream",
     "text": [
      "[5.1 5.2 5.3 5.4 5.5 5.6 5.7 5.8 5.9]\n",
      "[[5.1 5.2 5.3]\n",
      " [5.4 5.5 5.6]\n",
      " [5.7 5.8 5.9]]\n"
     ]
    }
   ],
   "source": [
    "arr = np.arange(5.1,5.9,0.1)\n",
    "print(arr)\n",
    "arr = arr.reshape(3,3)\n",
    "print(arr)"
   ]
  },
  {
   "cell_type": "code",
   "execution_count": 23,
   "id": "0e964406",
   "metadata": {},
   "outputs": [
    {
     "data": {
      "text/plain": [
       "(1, 1, 3)"
      ]
     },
     "execution_count": 23,
     "metadata": {},
     "output_type": "execute_result"
    }
   ],
   "source": [
    "arr = np.array([[[1,2,2]]])\n",
    "np.shape(arr)"
   ]
  }
 ],
 "metadata": {
  "kernelspec": {
   "display_name": "Python 3 (ipykernel)",
   "language": "python",
   "name": "python3"
  },
  "language_info": {
   "codemirror_mode": {
    "name": "ipython",
    "version": 3
   },
   "file_extension": ".py",
   "mimetype": "text/x-python",
   "name": "python",
   "nbconvert_exporter": "python",
   "pygments_lexer": "ipython3",
   "version": "3.9.7"
  }
 },
 "nbformat": 4,
 "nbformat_minor": 5
}
