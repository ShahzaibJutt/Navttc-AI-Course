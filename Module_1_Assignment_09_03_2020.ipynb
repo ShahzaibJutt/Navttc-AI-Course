{
 "cells": [
  {
   "cell_type": "code",
   "execution_count": null,
   "id": "ba3e42dd",
   "metadata": {},
   "outputs": [],
   "source": [
    "#task 1\n",
    "name = input(\"Enter your Name: \")\n",
    "rollNo = input(\"Enter your Roll No: \")\n",
    "age = input(\"Enter your Age: \")\n",
    "dob = input(\"Enter your DOB: \")\n",
    "gender = input(\"Enter your Gender: \")"
   ]
  },
  {
   "cell_type": "code",
   "execution_count": 6,
   "id": "1ee7387f",
   "metadata": {},
   "outputs": [
    {
     "name": "stdout",
     "output_type": "stream",
     "text": [
      "Enter the amount in Dollars: 50\n",
      "The amount in pkr is  8000\n"
     ]
    }
   ],
   "source": [
    "#task 2\n",
    "dollars = input(\"Enter the amount in Dollars: \")\n",
    "pkr = 160\n",
    "pkr = pkr * int(dollars)\n",
    "print(\"The amount in pkr is \", pkr)"
   ]
  },
  {
   "cell_type": "code",
   "execution_count": 13,
   "id": "a1734b65",
   "metadata": {},
   "outputs": [
    {
     "name": "stdout",
     "output_type": "stream",
     "text": [
      "5\n",
      "6\n",
      "Sum:  11\n",
      "Multiplication:  30\n",
      "Divison:  0.8333333333333334\n",
      "Subtract:  -1\n"
     ]
    }
   ],
   "source": [
    "#task 3\n",
    "a = input()\n",
    "b = input()\n",
    "print(\"Sum: \", int(a) + int(b))\n",
    "print(\"Multiplication: \", int(a) * int(b))\n",
    "print(\"Divison: \", int(a) / int(b))\n",
    "print(\"Subtract: \", int(a) - int(b))\n",
    "\n"
   ]
  },
  {
   "cell_type": "code",
   "execution_count": 21,
   "id": "fe577bef",
   "metadata": {},
   "outputs": [
    {
     "name": "stdout",
     "output_type": "stream",
     "text": [
      "5\n",
      "********************\n",
      "*\n",
      "*\n",
      "*\n",
      "********************\n"
     ]
    }
   ],
   "source": [
    "#task 4\n",
    "rows = input()\n",
    "rows = int(rows)\n",
    "for i in range(0, rows):\n",
    "    if (i == 0 or i == rows-1):\n",
    "        print(rows * 4 * \"*\")\n",
    "    else:\n",
    "        print('*')\n",
    "    "
   ]
  },
  {
   "cell_type": "code",
   "execution_count": 23,
   "id": "bb141104",
   "metadata": {},
   "outputs": [
    {
     "name": "stdout",
     "output_type": "stream",
     "text": [
      "10\n",
      "2\n",
      "5\n"
     ]
    }
   ],
   "source": [
    "#task 5\n",
    "a = input()\n",
    "b = input()\n",
    "res = int(a) / int(b)\n",
    "print(int(res))"
   ]
  },
  {
   "cell_type": "code",
   "execution_count": 6,
   "id": "db5a630b",
   "metadata": {},
   "outputs": [
    {
     "name": "stdout",
     "output_type": "stream",
     "text": [
      "10\n",
      "The temprature in fahrenheit is 50.0\n"
     ]
    }
   ],
   "source": [
    "#task 6\n",
    "celsius = input()\n",
    "fahrenheit = int(celsius) * 1.8 + 32\n",
    "print(\"The temprature in fahrenheit is %0.1f\"%(fahrenheit))"
   ]
  },
  {
   "cell_type": "code",
   "execution_count": 7,
   "id": "879914d5",
   "metadata": {},
   "outputs": [
    {
     "name": "stdout",
     "output_type": "stream",
     "text": [
      "Enter the constant: 5\n",
      "0.4\n"
     ]
    }
   ],
   "source": [
    "#task 7\n",
    "x1=5\n",
    "x2=10\n",
    "y1=3\n",
    "y2=5\n",
    "b = int(input(\"Enter the constant: \"))\n",
    "m=(y2-y1)/(x2-x1)\n",
    "print(m)"
   ]
  },
  {
   "cell_type": "code",
   "execution_count": 9,
   "id": "c6a67f08",
   "metadata": {},
   "outputs": [
    {
     "name": "stdout",
     "output_type": "stream",
     "text": [
      "enter feet: 5\n",
      "1.524\n"
     ]
    }
   ],
   "source": [
    "#task 8 \n",
    "feet = float(input('enter feet & inches: '))\n",
    "meter = feet *0.3048\n",
    "print(meter)"
   ]
  },
  {
   "cell_type": "code",
   "execution_count": 7,
   "id": "4010a771",
   "metadata": {},
   "outputs": [
    {
     "name": "stdout",
     "output_type": "stream",
     "text": [
      "Enter your marks: 50\n",
      "50 percent\n",
      "Enter your marks: 70\n",
      "70 percent\n",
      "Enter your marks: 90\n",
      "90 percent\n",
      "Enter your marks: 80\n",
      "80 percent\n",
      "You have obtained 58.0 marks.\n"
     ]
    }
   ],
   "source": [
    "#task 9\n",
    "subjects = []\n",
    "total = 0\n",
    "for i in range(1,5):\n",
    "    marks = int(input(\"Enter your marks: \"))\n",
    "    subjects.append(marks)\n",
    "    print(\"%1.f percent\"%(marks))\n",
    "for i in subjects:\n",
    "    total += i\n",
    "percentage = (total/500)*100\n",
    "print(\"You have obtained %0.1f percent marks.\"%(percentage))"
   ]
  }
 ],
 "metadata": {
  "kernelspec": {
   "display_name": "Python 3 (ipykernel)",
   "language": "python",
   "name": "python3"
  },
  "language_info": {
   "codemirror_mode": {
    "name": "ipython",
    "version": 3
   },
   "file_extension": ".py",
   "mimetype": "text/x-python",
   "name": "python",
   "nbconvert_exporter": "python",
   "pygments_lexer": "ipython3",
   "version": "3.9.7"
  }
 },
 "nbformat": 4,
 "nbformat_minor": 5
}
