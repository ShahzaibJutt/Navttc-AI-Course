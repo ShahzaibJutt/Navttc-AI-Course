{
 "cells": [
  {
   "cell_type": "code",
   "execution_count": 3,
   "id": "ebed5936",
   "metadata": {},
   "outputs": [
    {
     "name": "stdout",
     "output_type": "stream",
     "text": [
      "Enter the radius of a circle: 5\n",
      "78.53981633974483\n"
     ]
    }
   ],
   "source": [
    "#task 1\n",
    "import math\n",
    "def areaOfCircle(r):\n",
    "    area = math.pi*pow(r,2)\n",
    "    return area\n",
    "r = float(input(\"Enter the radius of a circle: \"))\n",
    "area = areaOfCircle(r)\n",
    "print(area)"
   ]
  },
  {
   "cell_type": "code",
   "execution_count": 4,
   "id": "41fb3f41",
   "metadata": {},
   "outputs": [
    {
     "name": "stdout",
     "output_type": "stream",
     "text": [
      "Enter the radius of a sphere: 5\n",
      "314.1592653589793\n"
     ]
    }
   ],
   "source": [
    "#task 2\n",
    "import math\n",
    "def areaOfSphere(r):\n",
    "    area = 4*math.pi*pow(r,2)\n",
    "    return area\n",
    "r = float(input(\"Enter the radius of a sphere: \"))\n",
    "area = areaOfSphere(r)\n",
    "print(area)"
   ]
  },
  {
   "cell_type": "code",
   "execution_count": 6,
   "id": "da316217",
   "metadata": {},
   "outputs": [
    {
     "name": "stdout",
     "output_type": "stream",
     "text": [
      "Enter base: 5\n",
      "Enter height: 10\n",
      "25.0\n"
     ]
    }
   ],
   "source": [
    "#task 3\n",
    "def areaOfTriangle(b, h):\n",
    "    area = 1/2 * (b*h)\n",
    "    return area\n",
    "b = int(input(\"Enter base: \"))\n",
    "h = int(input(\"Enter height: \"))\n",
    "area = areaOfTriangle(b, h)\n",
    "print(area)"
   ]
  },
  {
   "cell_type": "code",
   "execution_count": 8,
   "id": "9e552374",
   "metadata": {},
   "outputs": [
    {
     "name": "stdout",
     "output_type": "stream",
     "text": [
      "15\n"
     ]
    }
   ],
   "source": [
    "#task 4\n",
    "def sumoflist(l):\n",
    "    total = 0\n",
    "    for i in l:\n",
    "        total = total + i\n",
    "    return total\n",
    "l = [1,2,3,4,5]\n",
    "total = sumoflist(l)\n",
    "print(total)"
   ]
  },
  {
   "cell_type": "code",
   "execution_count": 9,
   "id": "68e80ea3",
   "metadata": {},
   "outputs": [
    {
     "name": "stdout",
     "output_type": "stream",
     "text": [
      "24\n"
     ]
    }
   ],
   "source": [
    "#task 5\n",
    "def fact(n):\n",
    "    if n == 1:\n",
    "        return 1\n",
    "    else:\n",
    "       return (n*fact(n-1))\n",
    "factorial = fact(4)\n",
    "print(factorial)\n",
    "        "
   ]
  },
  {
   "cell_type": "code",
   "execution_count": 2,
   "id": "4884f540",
   "metadata": {},
   "outputs": [
    {
     "name": "stdout",
     "output_type": "stream",
     "text": [
      "True\n",
      "False\n"
     ]
    }
   ],
   "source": [
    "#task 6\n",
    "def rrange(x, start, end):\n",
    "    if x > start and x < end:\n",
    "        return True\n",
    "    else:\n",
    "        return False\n",
    "print(rrange(9,1,10))\n",
    "print(rrange(12,1,10))"
   ]
  },
  {
   "cell_type": "code",
   "execution_count": 4,
   "id": "8ed7e4be",
   "metadata": {},
   "outputs": [
    {
     "name": "stdout",
     "output_type": "stream",
     "text": [
      "[1, 1.5, 2.0, 2.5, 3.0, 3.5, 4.0, 4.5, 5.0, 5.5, 6.0, 6.5, 7.0, 7.5, 8.0, 8.5, 9.0, 9.5]\n"
     ]
    }
   ],
   "source": [
    "#task 7\n",
    "l = []\n",
    "def rrange(start,end,interval):\n",
    "    while start < end:\n",
    "        l.append(start)\n",
    "        start = start + interval\n",
    "    return l\n",
    "\n",
    "l = rrange(1,10,0.5)\n",
    "print(l)"
   ]
  }
 ],
 "metadata": {
  "kernelspec": {
   "display_name": "Python 3 (ipykernel)",
   "language": "python",
   "name": "python3"
  },
  "language_info": {
   "codemirror_mode": {
    "name": "ipython",
    "version": 3
   },
   "file_extension": ".py",
   "mimetype": "text/x-python",
   "name": "python",
   "nbconvert_exporter": "python",
   "pygments_lexer": "ipython3",
   "version": "3.9.7"
  }
 },
 "nbformat": 4,
 "nbformat_minor": 5
}
