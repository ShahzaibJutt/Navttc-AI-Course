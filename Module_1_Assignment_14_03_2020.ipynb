{
 "cells": [
  {
   "cell_type": "code",
   "execution_count": 3,
   "id": "2554636d",
   "metadata": {},
   "outputs": [
    {
     "name": "stdout",
     "output_type": "stream",
     "text": [
      "0\n",
      "1\n",
      "2\n",
      "3\n",
      "4\n",
      "5\n",
      "6\n",
      "7\n",
      "8\n",
      "9\n"
     ]
    }
   ],
   "source": [
    "#task 1\n",
    "i = 0\n",
    "while i in range(10):\n",
    "    var = input()\n"
   ]
  },
  {
   "cell_type": "code",
   "execution_count": 4,
   "id": "bbcccb45",
   "metadata": {},
   "outputs": [
    {
     "name": "stdout",
     "output_type": "stream",
     "text": [
      "Enter the password: 4646\n",
      "Again Enter the password: 4646\n",
      "Your password is saved\n"
     ]
    }
   ],
   "source": [
    "#task 2\n",
    "while 1:\n",
    "    num = int (input())\n",
    "    if num % 2 == 0:\n",
    "        break\n",
    "    "
   ]
  },
  {
   "cell_type": "code",
   "execution_count": null,
   "id": "320b94c4",
   "metadata": {},
   "outputs": [],
   "source": [
    "#task 3\n",
    "while 1:\n",
    "    pas = input(\"Enter the password: \")\n",
    "    pas1 = input(\"Again Enter the password: \")\n",
    "    if pas == pas1:\n",
    "        print(\"Your password is saved\")\n",
    "        break\n",
    "    else:\n",
    "        print(\"Try Again!\")\n",
    "    "
   ]
  },
  {
   "cell_type": "code",
   "execution_count": 10,
   "id": "04b0a289",
   "metadata": {},
   "outputs": [
    {
     "name": "stdout",
     "output_type": "stream",
     "text": [
      "Enter the password: 4747\n",
      "Your password is saved\n",
      "Enter the password: 4646\n",
      "You entered a wrong password!\n",
      "Enter the password: 4646\n",
      "You entered a wrong password!\n",
      "Enter the password: 4747\n",
      "Welecome!\n"
     ]
    }
   ],
   "source": [
    "#task 4\n",
    "tries = 0\n",
    "pas = input(\"Enter the password: \")\n",
    "print(\"Your password is saved\")\n",
    "while 1:\n",
    "    pswd = input(\"Enter the password: \")\n",
    "    if tries > 3:\n",
    "        print(\"Too many tries! System is blocked!\")\n",
    "        break\n",
    "    if pswd == pas:\n",
    "        print(\"Welecome!\")\n",
    "        break\n",
    "    else:\n",
    "        print(\"You entered a wrong password!\")\n",
    "        tries = tries + 1"
   ]
  }
 ],
 "metadata": {
  "kernelspec": {
   "display_name": "Python 3 (ipykernel)",
   "language": "python",
   "name": "python3"
  },
  "language_info": {
   "codemirror_mode": {
    "name": "ipython",
    "version": 3
   },
   "file_extension": ".py",
   "mimetype": "text/x-python",
   "name": "python",
   "nbconvert_exporter": "python",
   "pygments_lexer": "ipython3",
   "version": "3.9.7"
  }
 },
 "nbformat": 4,
 "nbformat_minor": 5
}
