{
 "cells": [
  {
   "cell_type": "code",
   "execution_count": 2,
   "id": "dd9ad004",
   "metadata": {},
   "outputs": [
    {
     "name": "stdout",
     "output_type": "stream",
     "text": [
      "1      1\n",
      "2     11\n",
      "3     21\n",
      "4     31\n",
      "5     41\n",
      "6     51\n",
      "7     61\n",
      "8     71\n",
      "9     81\n",
      "10    91\n",
      "dtype: int32\n"
     ]
    }
   ],
   "source": [
    "#task 1\n",
    "import numpy as np\n",
    "import pandas as pd\n",
    "mySeries = pd.Series(np.arange(1,100,10),index=[x for x in range(1,11)])\n",
    "print(mySeries)"
   ]
  },
  {
   "cell_type": "code",
   "execution_count": 23,
   "id": "8b79b6de",
   "metadata": {},
   "outputs": [
    {
     "name": "stdout",
     "output_type": "stream",
     "text": [
      "[1, 2, 3, 4, 5, 6, 7, 8, 9, 10]\n",
      "[ 1 11 21 31 41 51 61 71 81 91]\n"
     ]
    }
   ],
   "source": [
    "#task 2\n",
    "values = mySeries.values\n",
    "indexes = mySeries.index.tolist()\n",
    "print(indexes)\n",
    "print(values)\n"
   ]
  },
  {
   "cell_type": "code",
   "execution_count": 25,
   "id": "e60ab79d",
   "metadata": {},
   "outputs": [
    {
     "name": "stdout",
     "output_type": "stream",
     "text": [
      "0    1\n",
      "1    2\n",
      "2    3\n",
      "3    4\n",
      "4    5\n",
      "5    6\n",
      "6    7\n",
      "7    8\n",
      "8    9\n",
      "dtype: int32\n"
     ]
    }
   ],
   "source": [
    "#task 3\n",
    "arr = np.arange(1,10)\n",
    "mySeries = pd.Series(arr)\n",
    "print(mySeries)"
   ]
  },
  {
   "cell_type": "code",
   "execution_count": 42,
   "id": "602d2b93",
   "metadata": {},
   "outputs": [
    {
     "name": "stdout",
     "output_type": "stream",
     "text": [
      "int32\n"
     ]
    },
    {
     "data": {
      "text/plain": [
       "1      1.0\n",
       "2     11.0\n",
       "3     21.0\n",
       "4     31.0\n",
       "5     41.0\n",
       "6     51.0\n",
       "7     61.0\n",
       "8     71.0\n",
       "9     81.0\n",
       "10    91.0\n",
       "dtype: float64"
      ]
     },
     "execution_count": 42,
     "metadata": {},
     "output_type": "execute_result"
    }
   ],
   "source": [
    "#task 4\n",
    "print(mySeries.dtype)\n",
    "mySeries.astype(float)\n"
   ]
  },
  {
   "cell_type": "code",
   "execution_count": 36,
   "id": "4d900c6c",
   "metadata": {},
   "outputs": [
    {
     "name": "stdout",
     "output_type": "stream",
     "text": [
      "0    26\n",
      "1    22\n",
      "2    24\n",
      "3    21\n",
      "4    25\n",
      "5    28\n",
      "6    26\n",
      "7    28\n",
      "8    28\n",
      "9    25\n",
      "Name: Apples, dtype: int32\n",
      "<class 'pandas.core.series.Series'>\n"
     ]
    }
   ],
   "source": [
    "#task 5\n",
    "apples = np.random.randint(20,30,10)\n",
    "oranges = np.random.randint(50,60,10)\n",
    "dict1 = {\"Apples\": apples, \"Oranges\" : oranges}\n",
    "df = pd.DataFrame(dict1)\n",
    "s = df['Apples']\n",
    "print(s)\n",
    "print(type(s))"
   ]
  },
  {
   "cell_type": "code",
   "execution_count": 35,
   "id": "d2c6f353",
   "metadata": {},
   "outputs": [
    {
     "name": "stdout",
     "output_type": "stream",
     "text": [
      "<class 'numpy.ndarray'>\n"
     ]
    },
    {
     "data": {
      "text/plain": [
       "numpy.ndarray"
      ]
     },
     "execution_count": 35,
     "metadata": {},
     "output_type": "execute_result"
    }
   ],
   "source": [
    "#task 6\n",
    "s = np.array(s)\n",
    "type(s)"
   ]
  },
  {
   "cell_type": "code",
   "execution_count": 9,
   "id": "8a5db263",
   "metadata": {},
   "outputs": [
    {
     "name": "stdout",
     "output_type": "stream",
     "text": [
      "Series([], dtype: float64)\n"
     ]
    },
    {
     "name": "stderr",
     "output_type": "stream",
     "text": [
      "C:\\Users\\HURAIR~1\\AppData\\Local\\Temp/ipykernel_6916/1918859826.py:7: DeprecationWarning: The default dtype for empty Series will be 'object' instead of 'float64' in a future version. Specify a dtype explicitly to silence this warning.\n",
      "  a = pd.Series()\n"
     ]
    }
   ],
   "source": [
    "#task 7\n",
    "#todo\n",
    "import pandas as pd\n",
    "s = pd.Series([\n",
    "    ['slim', 'waist', 'man'],\n",
    "    ['slim', 'waistline'],\n",
    "    ['santa']])\n",
    "a = pd.Series()\n",
    "for i in s:\n",
    "       a.append(pd.Series(i))\n",
    "print(a)"
   ]
  },
  {
   "cell_type": "code",
   "execution_count": 45,
   "id": "503cf4a2",
   "metadata": {},
   "outputs": [
    {
     "data": {
      "text/plain": [
       "0    26\n",
       "1    22\n",
       "2    24\n",
       "3    21\n",
       "4    25\n",
       "5    28\n",
       "6    26\n",
       "7    28\n",
       "8    28\n",
       "9    25\n",
       "Name: Apples, dtype: int32"
      ]
     },
     "execution_count": 45,
     "metadata": {},
     "output_type": "execute_result"
    }
   ],
   "source": [
    "#task 8\n",
    "series = df[\"Apples\"]\n",
    "series"
   ]
  },
  {
   "cell_type": "code",
   "execution_count": 49,
   "id": "c4784ef9",
   "metadata": {},
   "outputs": [
    {
     "name": "stdout",
     "output_type": "stream",
     "text": [
      "25.3\n",
      "2.4517567397911058\n"
     ]
    }
   ],
   "source": [
    "#task 9\n",
    "print(series.mean())\n",
    "print(series.std())"
   ]
  },
  {
   "cell_type": "code",
   "execution_count": 5,
   "id": "35df904e",
   "metadata": {},
   "outputs": [
    {
     "name": "stdout",
     "output_type": "stream",
     "text": [
      "shahzaib\n",
      "ali\n",
      "uzair\n",
      "usman\n"
     ]
    }
   ],
   "source": [
    "#task 10\n",
    "import pandas as pd\n",
    "series = pd.Series([\"shahzaib\",\"ali\",\"uzair\",\"usman\",\"Gl\"])\n",
    "\n",
    "for i in series:\n",
    "    count = 0\n",
    "    for j in i:\n",
    "        if j in list(\"aeiou\"):\n",
    "            count += 1\n",
    "    if count >= 2:\n",
    "        print(i)"
   ]
  },
  {
   "cell_type": "code",
   "execution_count": 61,
   "id": "387e36c8",
   "metadata": {},
   "outputs": [
    {
     "data": {
      "text/plain": [
       "True"
      ]
     },
     "execution_count": 61,
     "metadata": {},
     "output_type": "execute_result"
    }
   ],
   "source": [
    "#task 11\n",
    "series1 = pd.Series(np.arange(8),index=list(\"abcdefgh\"))\n",
    "series2 = pd.Series(np.arange(8),index=list(\"abcdefgh\"))\n",
    "series1.equals(series2)"
   ]
  },
  {
   "cell_type": "code",
   "execution_count": 66,
   "id": "46e20e1c",
   "metadata": {},
   "outputs": [
    {
     "name": "stdout",
     "output_type": "stream",
     "text": [
      "a\n",
      "h\n"
     ]
    }
   ],
   "source": [
    "#task 12\n",
    "print(series1.idxmin())\n",
    "print(series1.idxmax())"
   ]
  },
  {
   "cell_type": "code",
   "execution_count": 84,
   "id": "5fd45958",
   "metadata": {},
   "outputs": [
    {
     "data": {
      "text/html": [
       "<div>\n",
       "<style scoped>\n",
       "    .dataframe tbody tr th:only-of-type {\n",
       "        vertical-align: middle;\n",
       "    }\n",
       "\n",
       "    .dataframe tbody tr th {\n",
       "        vertical-align: top;\n",
       "    }\n",
       "\n",
       "    .dataframe thead th {\n",
       "        text-align: right;\n",
       "    }\n",
       "</style>\n",
       "<table border=\"1\" class=\"dataframe\">\n",
       "  <thead>\n",
       "    <tr style=\"text-align: right;\">\n",
       "      <th></th>\n",
       "      <th>Apples</th>\n",
       "      <th>Oranges</th>\n",
       "    </tr>\n",
       "  </thead>\n",
       "  <tbody>\n",
       "    <tr>\n",
       "      <th>0</th>\n",
       "      <td>False</td>\n",
       "      <td>True</td>\n",
       "    </tr>\n",
       "    <tr>\n",
       "      <th>1</th>\n",
       "      <td>False</td>\n",
       "      <td>True</td>\n",
       "    </tr>\n",
       "    <tr>\n",
       "      <th>2</th>\n",
       "      <td>False</td>\n",
       "      <td>True</td>\n",
       "    </tr>\n",
       "    <tr>\n",
       "      <th>3</th>\n",
       "      <td>False</td>\n",
       "      <td>True</td>\n",
       "    </tr>\n",
       "    <tr>\n",
       "      <th>4</th>\n",
       "      <td>True</td>\n",
       "      <td>True</td>\n",
       "    </tr>\n",
       "    <tr>\n",
       "      <th>5</th>\n",
       "      <td>True</td>\n",
       "      <td>True</td>\n",
       "    </tr>\n",
       "    <tr>\n",
       "      <th>6</th>\n",
       "      <td>True</td>\n",
       "      <td>True</td>\n",
       "    </tr>\n",
       "    <tr>\n",
       "      <th>7</th>\n",
       "      <td>True</td>\n",
       "      <td>True</td>\n",
       "    </tr>\n",
       "    <tr>\n",
       "      <th>8</th>\n",
       "      <td>True</td>\n",
       "      <td>True</td>\n",
       "    </tr>\n",
       "    <tr>\n",
       "      <th>9</th>\n",
       "      <td>True</td>\n",
       "      <td>True</td>\n",
       "    </tr>\n",
       "  </tbody>\n",
       "</table>\n",
       "</div>"
      ],
      "text/plain": [
       "   Apples  Oranges\n",
       "0   False     True\n",
       "1   False     True\n",
       "2   False     True\n",
       "3   False     True\n",
       "4    True     True\n",
       "5    True     True\n",
       "6    True     True\n",
       "7    True     True\n",
       "8    True     True\n",
       "9    True     True"
      ]
     },
     "execution_count": 84,
     "metadata": {},
     "output_type": "execute_result"
    }
   ],
   "source": [
    "#task 13\n",
    "df\n",
    "series = pd.Series([26,22,24,21,None])\n",
    "df.ne(series,axis=0)"
   ]
  },
  {
   "cell_type": "code",
   "execution_count": null,
   "id": "d34f6f2a",
   "metadata": {},
   "outputs": [],
   "source": [
    "#task 14\n",
    "import pandas as pd\n",
    "series = pd.Series([\"shahzaib\",\"ali\",\"uzair\",\"usman\",\"Gl\"])\n",
    "\n",
    "for i in series:\n",
    "    count = 0\n",
    "    for j in i:\n",
    "        if j in list(\"aeiou\"):\n",
    "            count += 1\n",
    "    if count >= 2:\n",
    "        print(i)"
   ]
  },
  {
   "cell_type": "code",
   "execution_count": 88,
   "id": "b76e9b3f",
   "metadata": {},
   "outputs": [
    {
     "name": "stdout",
     "output_type": "stream",
     "text": [
      "0    NaN\n",
      "1    1.0\n",
      "2    1.0\n",
      "3    1.0\n",
      "4    1.0\n",
      "5    1.0\n",
      "6    1.0\n",
      "7    1.0\n",
      "8    1.0\n",
      "dtype: float64\n",
      "0    NaN\n",
      "1    NaN\n",
      "2    0.0\n",
      "3    0.0\n",
      "4    0.0\n",
      "5    0.0\n",
      "6    0.0\n",
      "7    0.0\n",
      "8    0.0\n",
      "dtype: float64\n"
     ]
    }
   ],
   "source": [
    "#task 15\n",
    "series = pd.Series(np.arange(1,10))\n",
    "print(series.diff())\n",
    "print(series.diff().diff())"
   ]
  }
 ],
 "metadata": {
  "kernelspec": {
   "display_name": "Python 3 (ipykernel)",
   "language": "python",
   "name": "python3"
  },
  "language_info": {
   "codemirror_mode": {
    "name": "ipython",
    "version": 3
   },
   "file_extension": ".py",
   "mimetype": "text/x-python",
   "name": "python",
   "nbconvert_exporter": "python",
   "pygments_lexer": "ipython3",
   "version": "3.9.7"
  }
 },
 "nbformat": 4,
 "nbformat_minor": 5
}
