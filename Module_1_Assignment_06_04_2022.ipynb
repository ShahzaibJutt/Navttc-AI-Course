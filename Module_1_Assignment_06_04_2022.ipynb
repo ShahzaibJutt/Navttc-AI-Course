{
 "cells": [
  {
   "cell_type": "code",
   "execution_count": 26,
   "id": "1c8ea052",
   "metadata": {},
   "outputs": [
    {
     "name": "stdout",
     "output_type": "stream",
     "text": [
      "2 4\n",
      "3 9\n",
      "4 16\n",
      "5 25\n",
      "6 36\n",
      "7 49\n",
      "8 64\n",
      "9 81\n",
      "{2: 4, 3: 9, 4: 16, 5: 25, 6: 36, 7: 49, 8: 64, 9: 81, 10: 100}\n",
      "{2: 4, 3: 9, 4: 16, 5: 25, 6: 36, 7: 49, 8: 64, 9: 81}\n"
     ]
    }
   ],
   "source": [
    "#task 1\n",
    "\n",
    "#create\n",
    "dict1 = {x: x**2 for x in range(2,10)}\n",
    "#read\n",
    "for k,v in dict1.items():\n",
    "    print(k, v)\n",
    "dict1.get(5)\n",
    "#update\n",
    "dict2 = {10:100}\n",
    "dict1.update(dict2)\n",
    "print(dict1)\n",
    "#delete\n",
    "del dict2\n",
    "dict1.popitem()\n",
    "print(dict1)"
   ]
  },
  {
   "cell_type": "code",
   "execution_count": 43,
   "id": "a6fcc972",
   "metadata": {},
   "outputs": [
    {
     "name": "stdout",
     "output_type": "stream",
     "text": [
      "name shahzaib\n",
      "roll no ai22-c2-12\n",
      "courses {'AI': 'Ali', 'PF': 'Yasin'}\n",
      "Ali\n",
      "{'name': 'shahzaib', 'roll no': 'ai22-c2-12', 'courses': {'AI': 'Ali', 'PF': 'Yasin', 'CS': 'Sir Danish'}}\n",
      "{'name': 'shahzaib', 'courses': {'AI': 'Ali', 'PF': 'Yasin', 'CS': 'Sir Danish'}}\n",
      "{'name': 'shahzaib', 'courses': {'AI': 'Ali', 'PF': 'Yasin'}}\n"
     ]
    }
   ],
   "source": [
    "#task 2\n",
    "#create\n",
    "courseInfo = {\n",
    "    \"name\":\"shahzaib\",\n",
    "    \"roll no\": \"ai22-c2-12\",\n",
    "    \"courses\": {\"AI\":\"Ali\",\"PF\":\"Yasin\"}\n",
    "}\n",
    "#read\n",
    "for k,v in courseInfo.items():\n",
    "    print(k,v)\n",
    "print(courseInfo['courses']['AI'])\n",
    "#update\n",
    "courseInfo['courses']['CS'] = 'Sir Danish'\n",
    "print(courseInfo)\n",
    "#delete\n",
    "courseInfo.pop('roll no')\n",
    "print(courseInfo)\n",
    "del courseInfo['courses']['CS']\n",
    "print(courseInfo)"
   ]
  },
  {
   "cell_type": "code",
   "execution_count": 44,
   "id": "c3cd7f04",
   "metadata": {},
   "outputs": [
    {
     "name": "stdout",
     "output_type": "stream",
     "text": [
      "{2: 4, 3: 9, 4: 16, 5: 25, 6: 36, 7: 49, 8: 64, 9: 81}\n",
      "{}\n"
     ]
    }
   ],
   "source": [
    "#task 3\n",
    "dict1 = {x:x**2 for x in range(2,10)}\n",
    "print(dict1)\n",
    "dict1.clear()\n",
    "print(dict1)"
   ]
  },
  {
   "cell_type": "code",
   "execution_count": 48,
   "id": "2a46a4aa",
   "metadata": {},
   "outputs": [
    {
     "name": "stdout",
     "output_type": "stream",
     "text": [
      "Enter student name: shahzaib\n",
      "Enter student marks: 90\n",
      "Enter student name: ali\n",
      "Enter student marks: 50\n",
      "Enter student name: awais\n",
      "Enter student marks: 70\n",
      "Enter student name: uzair\n",
      "Enter student marks: 90\n",
      "[('shahzaib', '90'), ('ali', '50'), ('awais', '70'), ('uzair', '90')]\n"
     ]
    }
   ],
   "source": [
    "#task 4\n",
    "l = []\n",
    "dict1 = {}\n",
    "for i in range(1, 5):\n",
    "    key = input('Enter student name: ')\n",
    "    value = input('Enter student marks: ')\n",
    "    dict1[key] = value\n",
    "l = list(dict1.items())\n",
    "print(l)"
   ]
  },
  {
   "cell_type": "code",
   "execution_count": 50,
   "id": "e706de86",
   "metadata": {},
   "outputs": [
    {
     "name": "stdout",
     "output_type": "stream",
     "text": [
      "{2: 36, 3: 36, 4: 36, 5: 36, 6: 36}\n"
     ]
    }
   ],
   "source": [
    "#task 5\n",
    "l = [2,3,4,5,6]\n",
    "l2 = [4,9,16,25,36]\n",
    "dict1 = {x:y for x in l for y in l2}\n",
    "print(dict1)"
   ]
  },
  {
   "cell_type": "code",
   "execution_count": 52,
   "id": "326dc701",
   "metadata": {},
   "outputs": [
    {
     "name": "stdout",
     "output_type": "stream",
     "text": [
      "name\n",
      "age\n",
      "roll#\n",
      "personsName\n",
      "10\n",
      "RP-17-EE-4XX\n"
     ]
    }
   ],
   "source": [
    "#task 6\n",
    "myDict = { 'name': 'personsName', 'age': 10, 'roll#': 'RP-17-EE-4XX'}\n",
    "for k in myDict:\n",
    "    print(k)\n",
    "for v in myDict.values():\n",
    "    print(v)"
   ]
  }
 ],
 "metadata": {
  "kernelspec": {
   "display_name": "Python 3 (ipykernel)",
   "language": "python",
   "name": "python3"
  },
  "language_info": {
   "codemirror_mode": {
    "name": "ipython",
    "version": 3
   },
   "file_extension": ".py",
   "mimetype": "text/x-python",
   "name": "python",
   "nbconvert_exporter": "python",
   "pygments_lexer": "ipython3",
   "version": "3.9.7"
  }
 },
 "nbformat": 4,
 "nbformat_minor": 5
}
