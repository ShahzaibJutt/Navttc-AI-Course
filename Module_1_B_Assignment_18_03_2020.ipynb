{
 "cells": [
  {
   "cell_type": "code",
   "execution_count": 3,
   "id": "c509d96a",
   "metadata": {},
   "outputs": [
    {
     "name": "stdout",
     "output_type": "stream",
     "text": [
      "Enter the amount of pennies: 968\n",
      "Dollars = 9\n",
      "Quarters= 2\n",
      "Dimes= 1\n",
      "Nickels= 1\n",
      "Pennies= 3\n",
      "\n"
     ]
    }
   ],
   "source": [
    "#task 1\n",
    "pennies = int(input(\"Enter the amount of pennies: \"))\n",
    "dollars, pennies = divmod(pennies , 100)\n",
    "quarters, pennies = divmod(pennies, 25)\n",
    "dimes, pennies = divmod(pennies, 10)\n",
    "nickels, pennies = divmod(pennies, 5)\n",
    "print(\"Dollars = {}\\nQuarters= {}\\nDimes= {}\\nNickels= {}\\nPennies= {}\\n\".format(dollars,quarters, dimes, nickels, pennies))"
   ]
  },
  {
   "cell_type": "code",
   "execution_count": 2,
   "id": "992dd5b5",
   "metadata": {},
   "outputs": [
    {
     "name": "stdout",
     "output_type": "stream",
     "text": [
      "Enter the intgar no of pounds: (<0 to quit)0\n",
      "Enter the number of ounces as real number: 7.5\n",
      "Kg's = 0.21262360518914994\n",
      "Pounds = 0\n",
      "Ounces = 7.5\n",
      "Enter the intgar no of pounds: (<0 to quit)-1\n"
     ]
    }
   ],
   "source": [
    "# task 2\n",
    "while 1:\n",
    "    pounds = int(input(\"Enter the intgar no of pounds: (<0 to quit)\"))\n",
    "    if pounds < 0:\n",
    "        break\n",
    "    ounces = float(input(\"Enter the number of ounces as real number: \"))\n",
    "    pounds1 = pounds + (ounces/16)\n",
    "    kgs = pounds1/2.2046\n",
    "    print(\"Kg's = {}\\nPounds = {}\\nOunces = {}\".format(kgs,pounds,ounces))"
   ]
  }
 ],
 "metadata": {
  "kernelspec": {
   "display_name": "Python 3 (ipykernel)",
   "language": "python",
   "name": "python3"
  },
  "language_info": {
   "codemirror_mode": {
    "name": "ipython",
    "version": 3
   },
   "file_extension": ".py",
   "mimetype": "text/x-python",
   "name": "python",
   "nbconvert_exporter": "python",
   "pygments_lexer": "ipython3",
   "version": "3.9.7"
  }
 },
 "nbformat": 4,
 "nbformat_minor": 5
}
